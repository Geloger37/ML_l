{
  "cells": [
    {
      "cell_type": "markdown",
      "id": "P75gWMshhfv_",
      "metadata": {
        "id": "P75gWMshhfv_"
      },
      "source": [
        "# Начальная инициализация"
      ]
    },
    {
      "cell_type": "markdown",
      "id": "00b1812a",
      "metadata": {
        "id": "00b1812a"
      },
      "source": [
        "Установить Pytorch https://pytorch.org/"
      ]
    },
    {
      "cell_type": "code",
      "execution_count": 1,
      "id": "65078f9a",
      "metadata": {
        "id": "65078f9a"
      },
      "outputs": [],
      "source": [
        "#импорт библиотек\n",
        "import torch\n",
        "import torchvision\n",
        "from torchvision import transforms, datasets\n",
        "import torch.nn as nn\n",
        "import torch.nn.functional as F\n",
        "# import scipy\n",
        "import torch.utils.data as data_utils\n",
        "from sklearn.metrics import classification_report, f1_score\n",
        "\n",
        "from sklearn import datasets\n",
        "\n",
        "import torch.optim as optim\n",
        "\n",
        "import pandas as pd\n",
        "import numpy as np"
      ]
    },
    {
      "cell_type": "code",
      "execution_count": 2,
      "id": "qZMoTvwu7wGy",
      "metadata": {
        "id": "qZMoTvwu7wGy"
      },
      "outputs": [],
      "source": [
        "# Подключение вычислений на видеокарту, если доступна\n",
        "if torch.cuda.is_available(): \n",
        " dev = \"cuda:0\" \n",
        "else: \n",
        " dev = \"cpu\" \n",
        "device = torch.device(dev)\n",
        "device = \"cpu\""
      ]
    },
    {
      "cell_type": "code",
      "execution_count": 3,
      "id": "GnUj7tRT96cu",
      "metadata": {
        "colab": {
          "base_uri": "https://localhost:8080/"
        },
        "id": "GnUj7tRT96cu",
        "outputId": "c09e7c5c-5d8e-46df-a8a9-28973918949f"
      },
      "outputs": [
        {
          "name": "stdout",
          "output_type": "stream",
          "text": [
            "cpu\n"
          ]
        }
      ],
      "source": [
        "print(device)"
      ]
    },
    {
      "cell_type": "markdown",
      "id": "2fa25bad",
      "metadata": {
        "id": "2fa25bad"
      },
      "source": [
        "# Задание 1"
      ]
    },
    {
      "cell_type": "markdown",
      "id": "_Q6YfGFAgyW-",
      "metadata": {
        "id": "_Q6YfGFAgyW-"
      },
      "source": [
        "## Сеть c 2 скрытыми слоями, разные слои, lr=0.01"
      ]
    },
    {
      "cell_type": "code",
      "execution_count": 4,
      "id": "2adeba43",
      "metadata": {
        "id": "2adeba43"
      },
      "outputs": [],
      "source": [
        "X_train = pd.read_csv('X_train_Final.csv').values\n",
        "y_train = np.array([0 if el[0] == -1 else el[0] for el in pd.read_csv('y_train_Final.csv', names=['class']).values.tolist()])\n",
        "X_test = pd.read_csv('X_test_Final.csv').values\n",
        "y_test = np.array([0 if el[0] == -1 else el[0] for el in pd.read_csv('y_test_Final.csv', names=['class']).values.tolist()])"
      ]
    },
    {
      "cell_type": "code",
      "execution_count": 5,
      "id": "xsDWOURYS6HL",
      "metadata": {
        "colab": {
          "base_uri": "https://localhost:8080/"
        },
        "id": "xsDWOURYS6HL",
        "outputId": "fdab30c0-ec9d-414b-e0c6-89da137680cc"
      },
      "outputs": [
        {
          "name": "stdout",
          "output_type": "stream",
          "text": [
            "Net_2_layer(\n",
            "  (fc1): Linear(in_features=20, out_features=16, bias=True)\n",
            "  (fc2): Linear(in_features=16, out_features=8, bias=True)\n",
            "  (fc3): Linear(in_features=8, out_features=4, bias=True)\n",
            "  (fc4): Linear(in_features=4, out_features=2, bias=True)\n",
            ")\n"
          ]
        }
      ],
      "source": [
        "#Архитектура нейронной сети\n",
        "class Net_2_layer(nn.Module):\n",
        "    def __init__(self):\n",
        "        super().__init__()  #вх. #вых.\n",
        "        self.fc1 = nn.Linear(20, 16)\n",
        "        self.fc2 = nn.Linear(16, 8)\n",
        "        self.fc3 = nn.Linear(8, 4)\n",
        "        self.fc4 = nn.Linear(4, 2)\n",
        "\n",
        "    def forward(self, x):\n",
        "        x = F.relu(self.fc1(x))\n",
        "        x = F.relu(self.fc2(x))\n",
        "        x = F.relu(self.fc3(x))\n",
        "        x = self.fc4(x)\n",
        "        return F.log_softmax(x, dim=1)\n",
        "\n",
        "net_2_layer = Net_2_layer().to(device)\n",
        "print(net_2_layer)"
      ]
    },
    {
      "cell_type": "code",
      "execution_count": 6,
      "id": "Q-ICYR_0ZUsv",
      "metadata": {
        "id": "Q-ICYR_0ZUsv"
      },
      "outputs": [],
      "source": [
        "#Задаем оптимизатор и функцию потерь\n",
        "\n",
        "\n",
        "optimizer_2_layer = optim.SGD(net_2_layer.parameters(), lr=0.01) # регулирует изменяемые параметры нашей модели, а именно веса, чтобы они постепенно, с течением времени, приходили в соответствие нашим данным\n",
        "# lr - скорость обучения определяет величину изменений, которую оптимайзер может внести за один раз\n",
        "# Каждый полный проход по данным называется эпохой (epoch)"
      ]
    },
    {
      "cell_type": "code",
      "execution_count": 7,
      "id": "z6Lkk2rmaeRU",
      "metadata": {
        "id": "z6Lkk2rmaeRU"
      },
      "outputs": [],
      "source": [
        "#преобразование в тензоры\n",
        "inputs_train = torch.tensor(X_train).to(device)\n",
        "targets_train = torch.tensor(y_train).int().to(device)\n",
        "\n",
        "inputs_test = torch.tensor(X_test).to(device)\n",
        "targets_test = torch.tensor(y_test).int().to(device)\n",
        "\n",
        "train = data_utils.TensorDataset(inputs_train, targets_train)\n",
        "test = data_utils.TensorDataset(inputs_test, targets_test)\n",
        "\n",
        "trainset = torch.utils.data.DataLoader(train, shuffle=True)\n",
        "testset = torch.utils.data.DataLoader(test, shuffle=False)"
      ]
    },
    {
      "cell_type": "code",
      "execution_count": 8,
      "id": "UWpWOUclZdC0",
      "metadata": {
        "colab": {
          "base_uri": "https://localhost:8080/"
        },
        "id": "UWpWOUclZdC0",
        "outputId": "8186c0dd-a0dd-418f-8665-c10baec1fa30"
      },
      "outputs": [
        {
          "name": "stdout",
          "output_type": "stream",
          "text": [
            "tensor(0.7058, grad_fn=<NllLossBackward0>)\n",
            "tensor(0.5969, grad_fn=<NllLossBackward0>)\n",
            "tensor(0.5517, grad_fn=<NllLossBackward0>)\n",
            "tensor(0.6002, grad_fn=<NllLossBackward0>)\n",
            "tensor(0.5904, grad_fn=<NllLossBackward0>)\n",
            "tensor(0.6249, grad_fn=<NllLossBackward0>)\n",
            "tensor(0.6038, grad_fn=<NllLossBackward0>)\n",
            "tensor(0.7043, grad_fn=<NllLossBackward0>)\n",
            "tensor(0.5648, grad_fn=<NllLossBackward0>)\n",
            "tensor(0.8286, grad_fn=<NllLossBackward0>)\n",
            "tensor(0.7759, grad_fn=<NllLossBackward0>)\n",
            "tensor(0.6638, grad_fn=<NllLossBackward0>)\n",
            "tensor(0.7769, grad_fn=<NllLossBackward0>)\n",
            "tensor(0.7274, grad_fn=<NllLossBackward0>)\n",
            "tensor(0.7833, grad_fn=<NllLossBackward0>)\n"
          ]
        }
      ],
      "source": [
        "for epoch in range(15): # 15 полных прохода по нашим данным\n",
        "    for data in trainset:  # `data` это батч наших данных\n",
        "        X, y = data  # X это батч свойств, y это батч целевых переменных.\n",
        "        net_2_layer.zero_grad()  # устанавливаем значение градиента в 0 перед вычислением функции потерь. Вам следует делать это на каждом шаге.\n",
        "        output = net_2_layer(X.float())  # передаем батч\n",
        "        #loss = F.nll_loss(output, y.long())  # вычисляем функцию потерь\n",
        "        loss = F.cross_entropy(output, y.long())\n",
        "        loss.backward()  # передаем это значение назад по сети\n",
        "        optimizer_2_layer.step()  # пытаемся оптимизировать значение весов исходя из потерь и градиента\n",
        "    print(loss)  # выводим на экран значение функции потерь. Мы надеемся, что оно убывает!"
      ]
    },
    {
      "cell_type": "code",
      "execution_count": 9,
      "id": "QJWBBaJyfYSg",
      "metadata": {
        "id": "QJWBBaJyfYSg"
      },
      "outputs": [],
      "source": [
        "#Предсказание меток классов для примеров из тестового множества\n",
        "ams = []\n",
        "with torch.no_grad():\n",
        "    for data in testset:\n",
        "        X, y = data\n",
        "        output = net_2_layer(X.float())\n",
        "        for idx, i in enumerate(output):\n",
        "            ams.append(torch.argmax(i).item())"
      ]
    },
    {
      "cell_type": "code",
      "execution_count": 10,
      "id": "67AiPNPKgOqj",
      "metadata": {
        "colab": {
          "base_uri": "https://localhost:8080/"
        },
        "id": "67AiPNPKgOqj",
        "outputId": "a6b229bc-dc6c-4a4c-be83-097868eac529"
      },
      "outputs": [
        {
          "name": "stdout",
          "output_type": "stream",
          "text": [
            "torch.Size([1, 2])\n",
            "50\n",
            "              precision    recall  f1-score   support\n",
            "\n",
            "    negative       0.00      0.00      0.00        23\n",
            "    positive       0.54      1.00      0.70        27\n",
            "\n",
            "    accuracy                           0.54        50\n",
            "   macro avg       0.27      0.50      0.35        50\n",
            "weighted avg       0.29      0.54      0.38        50\n",
            "\n",
            "f1 = 0.7012987012987013\n"
          ]
        },
        {
          "name": "stderr",
          "output_type": "stream",
          "text": [
            "/home/max/.local/lib/python3.10/site-packages/sklearn/metrics/_classification.py:1318: UndefinedMetricWarning: Precision and F-score are ill-defined and being set to 0.0 in labels with no predicted samples. Use `zero_division` parameter to control this behavior.\n",
            "  _warn_prf(average, modifier, msg_start, len(result))\n",
            "/home/max/.local/lib/python3.10/site-packages/sklearn/metrics/_classification.py:1318: UndefinedMetricWarning: Precision and F-score are ill-defined and being set to 0.0 in labels with no predicted samples. Use `zero_division` parameter to control this behavior.\n",
            "  _warn_prf(average, modifier, msg_start, len(result))\n",
            "/home/max/.local/lib/python3.10/site-packages/sklearn/metrics/_classification.py:1318: UndefinedMetricWarning: Precision and F-score are ill-defined and being set to 0.0 in labels with no predicted samples. Use `zero_division` parameter to control this behavior.\n",
            "  _warn_prf(average, modifier, msg_start, len(result))\n"
          ]
        }
      ],
      "source": [
        "#Оценка качества классификации\n",
        "print(output.size())\n",
        "print(len(ams))\n",
        "\n",
        "target_names = ['negative', 'positive']\n",
        "print(classification_report(y_test, ams, target_names=target_names))\n",
        "print(f'f1 = {f1_score(y_test, ams)}')"
      ]
    },
    {
      "cell_type": "markdown",
      "id": "pZTCtGBdmPCN",
      "metadata": {
        "id": "pZTCtGBdmPCN"
      },
      "source": [
        "## Сеть c 2 скрытыми слоями, разные слои, lr=0.001"
      ]
    },
    {
      "cell_type": "code",
      "execution_count": 11,
      "id": "AwbEtBVAmPCY",
      "metadata": {
        "id": "AwbEtBVAmPCY"
      },
      "outputs": [],
      "source": [
        "X_train = pd.read_csv('X_train_Final.csv').values\n",
        "y_train = np.array([0 if el[0] == -1 else el[0] for el in pd.read_csv('y_train_Final.csv', names=['class']).values.tolist()])\n",
        "X_test = pd.read_csv('X_test_Final.csv').values\n",
        "y_test = np.array([0 if el[0] == -1 else el[0] for el in pd.read_csv('y_test_Final.csv', names=['class']).values.tolist()])"
      ]
    },
    {
      "cell_type": "code",
      "execution_count": 12,
      "id": "0cswXonamPCZ",
      "metadata": {
        "colab": {
          "base_uri": "https://localhost:8080/"
        },
        "id": "0cswXonamPCZ",
        "outputId": "9fb9b225-0697-4973-eeb2-371beb9942bb"
      },
      "outputs": [
        {
          "name": "stdout",
          "output_type": "stream",
          "text": [
            "Net_2_layer(\n",
            "  (fc1): Linear(in_features=20, out_features=16, bias=True)\n",
            "  (fc2): Linear(in_features=16, out_features=8, bias=True)\n",
            "  (fc3): Linear(in_features=8, out_features=4, bias=True)\n",
            "  (fc4): Linear(in_features=4, out_features=2, bias=True)\n",
            ")\n"
          ]
        }
      ],
      "source": [
        "#Архитектура нейронной сети\n",
        "class Net_2_layer(nn.Module):\n",
        "    def __init__(self):\n",
        "        super().__init__()  #вх. #вых.\n",
        "        self.fc1 = nn.Linear(20, 16)\n",
        "        self.fc2 = nn.Linear(16, 8)\n",
        "        self.fc3 = nn.Linear(8, 4)\n",
        "        self.fc4 = nn.Linear(4, 2)\n",
        "\n",
        "    def forward(self, x):\n",
        "        x = F.relu(self.fc1(x))\n",
        "        x = F.relu(self.fc2(x))\n",
        "        x = F.relu(self.fc3(x))\n",
        "        x = self.fc4(x)\n",
        "        return F.log_softmax(x, dim=1)\n",
        "\n",
        "net_2_layer = Net_2_layer().to(device)\n",
        "print(net_2_layer)"
      ]
    },
    {
      "cell_type": "code",
      "execution_count": 13,
      "id": "-wyrIp55mPCZ",
      "metadata": {
        "id": "-wyrIp55mPCZ"
      },
      "outputs": [],
      "source": [
        "#Задаем оптимизатор и функцию потерь\n",
        "\n",
        "\n",
        "optimizer_2_layer = optim.SGD(net_2_layer.parameters(), lr=0.001) # регулирует изменяемые параметры нашей модели, а именно веса, чтобы они постепенно, с течением времени, приходили в соответствие нашим данным\n",
        "# lr - скорость обучения определяет величину изменений, которую оптимайзер может внести за один раз\n",
        "# Каждый полный проход по данным называется эпохой (epoch)"
      ]
    },
    {
      "cell_type": "code",
      "execution_count": 14,
      "id": "qq99XHcKmPCZ",
      "metadata": {
        "id": "qq99XHcKmPCZ"
      },
      "outputs": [],
      "source": [
        "#преобразование в тензоры\n",
        "inputs_train = torch.tensor(X_train).to(device)\n",
        "targets_train = torch.tensor(y_train).int().to(device)\n",
        "\n",
        "inputs_test = torch.tensor(X_test).to(device)\n",
        "targets_test = torch.tensor(y_test).int().to(device)\n",
        "\n",
        "train = data_utils.TensorDataset(inputs_train, targets_train)\n",
        "test = data_utils.TensorDataset(inputs_test, targets_test)\n",
        "\n",
        "trainset = torch.utils.data.DataLoader(train, shuffle=True)\n",
        "testset = torch.utils.data.DataLoader(test, shuffle=False)"
      ]
    },
    {
      "cell_type": "code",
      "execution_count": 15,
      "id": "FnwRbEDRmPCZ",
      "metadata": {
        "colab": {
          "base_uri": "https://localhost:8080/"
        },
        "id": "FnwRbEDRmPCZ",
        "outputId": "133c7f4b-f784-49f7-abac-c24661d28abf"
      },
      "outputs": [
        {
          "name": "stdout",
          "output_type": "stream",
          "text": [
            "tensor(0.5383, grad_fn=<NllLossBackward0>)\n",
            "tensor(0.5882, grad_fn=<NllLossBackward0>)\n",
            "tensor(0.6179, grad_fn=<NllLossBackward0>)\n",
            "tensor(0.9777, grad_fn=<NllLossBackward0>)\n",
            "tensor(0.7616, grad_fn=<NllLossBackward0>)\n",
            "tensor(0.6337, grad_fn=<NllLossBackward0>)\n",
            "tensor(0.2905, grad_fn=<NllLossBackward0>)\n",
            "tensor(0.5513, grad_fn=<NllLossBackward0>)\n",
            "tensor(0.7236, grad_fn=<NllLossBackward0>)\n",
            "tensor(0.8097, grad_fn=<NllLossBackward0>)\n",
            "tensor(0.7692, grad_fn=<NllLossBackward0>)\n",
            "tensor(0.6888, grad_fn=<NllLossBackward0>)\n",
            "tensor(0.3534, grad_fn=<NllLossBackward0>)\n",
            "tensor(0.6768, grad_fn=<NllLossBackward0>)\n",
            "tensor(0.4462, grad_fn=<NllLossBackward0>)\n"
          ]
        }
      ],
      "source": [
        "for epoch in range(15): # 15 полных прохода по нашим данным\n",
        "    for data in trainset:  # `data` это батч наших данных\n",
        "        X, y = data  # X это батч свойств, y это батч целевых переменных.\n",
        "        net_2_layer.zero_grad()  # устанавливаем значение градиента в 0 перед вычислением функции потерь. Вам следует делать это на каждом шаге.\n",
        "        output = net_2_layer(X.float())  # передаем батч\n",
        "        #loss = F.nll_loss(output, y.long())  # вычисляем функцию потерь\n",
        "        loss = F.cross_entropy(output, y.long())\n",
        "        loss.backward()  # передаем это значение назад по сети\n",
        "        optimizer_2_layer.step()  # пытаемся оптимизировать значение весов исходя из потерь и градиента\n",
        "    print(loss)  # выводим на экран значение функции потерь. Мы надеемся, что оно убывает!"
      ]
    },
    {
      "cell_type": "code",
      "execution_count": 16,
      "id": "LwNZxjKzmPCa",
      "metadata": {
        "id": "LwNZxjKzmPCa"
      },
      "outputs": [],
      "source": [
        "#Предсказание меток классов для примеров из тестового множества\n",
        "ams = []\n",
        "with torch.no_grad():\n",
        "    for data in testset:\n",
        "        X, y = data\n",
        "        output = net_2_layer(X.float())\n",
        "        for idx, i in enumerate(output):\n",
        "            ams.append(torch.argmax(i).item())"
      ]
    },
    {
      "cell_type": "code",
      "execution_count": 17,
      "id": "EjbWMOWemPCa",
      "metadata": {
        "colab": {
          "base_uri": "https://localhost:8080/"
        },
        "id": "EjbWMOWemPCa",
        "outputId": "6ed40ca9-2c8c-436e-e992-daf1cfa43869"
      },
      "outputs": [
        {
          "name": "stdout",
          "output_type": "stream",
          "text": [
            "torch.Size([1, 2])\n",
            "50\n",
            "              precision    recall  f1-score   support\n",
            "\n",
            "    negative       0.75      0.39      0.51        23\n",
            "    positive       0.63      0.89      0.74        27\n",
            "\n",
            "    accuracy                           0.66        50\n",
            "   macro avg       0.69      0.64      0.63        50\n",
            "weighted avg       0.69      0.66      0.64        50\n",
            "\n",
            "f1 = 0.7384615384615385\n"
          ]
        }
      ],
      "source": [
        "#Оценка качества классификации\n",
        "print(output.size())\n",
        "print(len(ams))\n",
        "\n",
        "target_names = ['negative', 'positive']\n",
        "print(classification_report(y_test, ams, target_names=target_names))\n",
        "print(f'f1 = {f1_score(y_test, ams)}')"
      ]
    },
    {
      "cell_type": "markdown",
      "id": "hxzUrynxmX5E",
      "metadata": {
        "id": "hxzUrynxmX5E"
      },
      "source": [
        "## Сеть c 2 скрытыми слоями, разные слои, lr=0.0001"
      ]
    },
    {
      "cell_type": "code",
      "execution_count": 18,
      "id": "tyfuqByHmX5F",
      "metadata": {
        "id": "tyfuqByHmX5F"
      },
      "outputs": [],
      "source": [
        "X_train = pd.read_csv('X_train_Final.csv').values\n",
        "y_train = np.array([0 if el[0] == -1 else el[0] for el in pd.read_csv('y_train_Final.csv', names=['class']).values.tolist()])\n",
        "X_test = pd.read_csv('X_test_Final.csv').values\n",
        "y_test = np.array([0 if el[0] == -1 else el[0] for el in pd.read_csv('y_test_Final.csv', names=['class']).values.tolist()])"
      ]
    },
    {
      "cell_type": "code",
      "execution_count": 19,
      "id": "B2cdbffsmX5G",
      "metadata": {
        "colab": {
          "base_uri": "https://localhost:8080/"
        },
        "id": "B2cdbffsmX5G",
        "outputId": "fec28835-2b31-47ee-d5ed-c1802a994cda"
      },
      "outputs": [
        {
          "name": "stdout",
          "output_type": "stream",
          "text": [
            "Net_2_layer(\n",
            "  (fc1): Linear(in_features=20, out_features=16, bias=True)\n",
            "  (fc2): Linear(in_features=16, out_features=8, bias=True)\n",
            "  (fc3): Linear(in_features=8, out_features=4, bias=True)\n",
            "  (fc4): Linear(in_features=4, out_features=2, bias=True)\n",
            ")\n"
          ]
        }
      ],
      "source": [
        "#Архитектура нейронной сети\n",
        "class Net_2_layer(nn.Module):\n",
        "    def __init__(self):\n",
        "        super().__init__()  #вх. #вых.\n",
        "        self.fc1 = nn.Linear(20, 16)\n",
        "        self.fc2 = nn.Linear(16, 8)\n",
        "        self.fc3 = nn.Linear(8, 4)\n",
        "        self.fc4 = nn.Linear(4, 2)\n",
        "\n",
        "    def forward(self, x):\n",
        "        x = F.relu(self.fc1(x))\n",
        "        x = F.relu(self.fc2(x))\n",
        "        x = F.relu(self.fc3(x))\n",
        "        x = self.fc4(x)\n",
        "        return F.log_softmax(x, dim=1)\n",
        "\n",
        "net_2_layer = Net_2_layer().to(device)\n",
        "print(net_2_layer)"
      ]
    },
    {
      "cell_type": "code",
      "execution_count": 20,
      "id": "4ZgCz1H_mX5H",
      "metadata": {
        "id": "4ZgCz1H_mX5H"
      },
      "outputs": [],
      "source": [
        "#Задаем оптимизатор и функцию потерь\n",
        "\n",
        "\n",
        "optimizer_2_layer = optim.SGD(net_2_layer.parameters(), lr=0.0001) # регулирует изменяемые параметры нашей модели, а именно веса, чтобы они постепенно, с течением времени, приходили в соответствие нашим данным\n",
        "# lr - скорость обучения определяет величину изменений, которую оптимайзер может внести за один раз\n",
        "# Каждый полный проход по данным называется эпохой (epoch)"
      ]
    },
    {
      "cell_type": "code",
      "execution_count": 21,
      "id": "8UlDxAbemX5I",
      "metadata": {
        "id": "8UlDxAbemX5I"
      },
      "outputs": [],
      "source": [
        "#преобразование в тензоры\n",
        "inputs_train = torch.tensor(X_train).to(device)\n",
        "targets_train = torch.tensor(y_train).int().to(device)\n",
        "\n",
        "inputs_test = torch.tensor(X_test).to(device)\n",
        "targets_test = torch.tensor(y_test).int().to(device)\n",
        "\n",
        "train = data_utils.TensorDataset(inputs_train, targets_train)\n",
        "test = data_utils.TensorDataset(inputs_test, targets_test)\n",
        "\n",
        "trainset = torch.utils.data.DataLoader(train, shuffle=True)\n",
        "testset = torch.utils.data.DataLoader(test, shuffle=False)"
      ]
    },
    {
      "cell_type": "code",
      "execution_count": 22,
      "id": "3YDLdLvWmX5I",
      "metadata": {
        "colab": {
          "base_uri": "https://localhost:8080/"
        },
        "id": "3YDLdLvWmX5I",
        "outputId": "42888940-dd7d-4cdd-b1b0-2d1d72953257"
      },
      "outputs": [
        {
          "name": "stdout",
          "output_type": "stream",
          "text": [
            "tensor(0.5984, grad_fn=<NllLossBackward0>)\n",
            "tensor(0.6093, grad_fn=<NllLossBackward0>)\n",
            "tensor(0.7532, grad_fn=<NllLossBackward0>)\n",
            "tensor(0.7883, grad_fn=<NllLossBackward0>)\n",
            "tensor(0.6592, grad_fn=<NllLossBackward0>)\n",
            "tensor(0.5823, grad_fn=<NllLossBackward0>)\n",
            "tensor(0.5911, grad_fn=<NllLossBackward0>)\n",
            "tensor(0.7203, grad_fn=<NllLossBackward0>)\n",
            "tensor(0.5463, grad_fn=<NllLossBackward0>)\n",
            "tensor(0.9425, grad_fn=<NllLossBackward0>)\n",
            "tensor(0.6866, grad_fn=<NllLossBackward0>)\n",
            "tensor(0.4436, grad_fn=<NllLossBackward0>)\n",
            "tensor(0.4812, grad_fn=<NllLossBackward0>)\n",
            "tensor(0.6286, grad_fn=<NllLossBackward0>)\n",
            "tensor(0.4227, grad_fn=<NllLossBackward0>)\n"
          ]
        }
      ],
      "source": [
        "for epoch in range(15): # 15 полных прохода по нашим данным\n",
        "    for data in trainset:  # `data` это батч наших данных\n",
        "        X, y = data  # X это батч свойств, y это батч целевых переменных.\n",
        "        net_2_layer.zero_grad()  # устанавливаем значение градиента в 0 перед вычислением функции потерь. Вам следует делать это на каждом шаге.\n",
        "        output = net_2_layer(X.float())  # передаем батч\n",
        "        #loss = F.nll_loss(output, y.long())  # вычисляем функцию потерь\n",
        "        loss = F.cross_entropy(output, y.long())\n",
        "        loss.backward()  # передаем это значение назад по сети\n",
        "        optimizer_2_layer.step()  # пытаемся оптимизировать значение весов исходя из потерь и градиента\n",
        "    print(loss)  # выводим на экран значение функции потерь. Мы надеемся, что оно убывает!"
      ]
    },
    {
      "cell_type": "code",
      "execution_count": 23,
      "id": "H050o8LNmX5J",
      "metadata": {
        "id": "H050o8LNmX5J"
      },
      "outputs": [],
      "source": [
        "#Предсказание меток классов для примеров из тестового множества\n",
        "ams = []\n",
        "with torch.no_grad():\n",
        "    for data in testset:\n",
        "        X, y = data\n",
        "        output = net_2_layer(X.float())\n",
        "        for idx, i in enumerate(output):\n",
        "            ams.append(torch.argmax(i).item())"
      ]
    },
    {
      "cell_type": "code",
      "execution_count": 24,
      "id": "FeFoYk9_mX5K",
      "metadata": {
        "colab": {
          "base_uri": "https://localhost:8080/"
        },
        "id": "FeFoYk9_mX5K",
        "outputId": "d06c9137-bcac-4c79-a89a-23b8bfbc966e"
      },
      "outputs": [
        {
          "name": "stdout",
          "output_type": "stream",
          "text": [
            "torch.Size([1, 2])\n",
            "50\n",
            "              precision    recall  f1-score   support\n",
            "\n",
            "    negative       0.72      0.57      0.63        23\n",
            "    positive       0.69      0.81      0.75        27\n",
            "\n",
            "    accuracy                           0.70        50\n",
            "   macro avg       0.70      0.69      0.69        50\n",
            "weighted avg       0.70      0.70      0.69        50\n",
            "\n",
            "f1 = 0.7457627118644067\n"
          ]
        }
      ],
      "source": [
        "#Оценка качества классификации\n",
        "print(output.size())\n",
        "print(len(ams))\n",
        "\n",
        "target_names = ['negative', 'positive']\n",
        "print(classification_report(y_test, ams, target_names=target_names))\n",
        "print(f'f1 = {f1_score(y_test, ams)}')"
      ]
    },
    {
      "cell_type": "markdown",
      "id": "WKGUJrpWmbNX",
      "metadata": {
        "id": "WKGUJrpWmbNX"
      },
      "source": [
        "## Сеть c 2 скрытыми слоями, одинаковые слои, lr=0.01"
      ]
    },
    {
      "cell_type": "code",
      "execution_count": 25,
      "id": "nnBzbU6WmbNY",
      "metadata": {
        "id": "nnBzbU6WmbNY"
      },
      "outputs": [],
      "source": [
        "X_train = pd.read_csv('X_train_Final.csv').values\n",
        "y_train = np.array([0 if el[0] == -1 else el[0] for el in pd.read_csv('y_train_Final.csv', names=['class']).values.tolist()])\n",
        "X_test = pd.read_csv('X_test_Final.csv').values\n",
        "y_test = np.array([0 if el[0] == -1 else el[0] for el in pd.read_csv('y_test_Final.csv', names=['class']).values.tolist()])"
      ]
    },
    {
      "cell_type": "code",
      "execution_count": 26,
      "id": "8uahdYmymbNZ",
      "metadata": {
        "colab": {
          "base_uri": "https://localhost:8080/"
        },
        "id": "8uahdYmymbNZ",
        "outputId": "53d933ad-64d6-4ec9-fe75-9f5ad8b350b9"
      },
      "outputs": [
        {
          "name": "stdout",
          "output_type": "stream",
          "text": [
            "Net_2_layer(\n",
            "  (fc1): Linear(in_features=20, out_features=16, bias=True)\n",
            "  (fc2): Linear(in_features=16, out_features=16, bias=True)\n",
            "  (fc3): Linear(in_features=16, out_features=16, bias=True)\n",
            "  (fc4): Linear(in_features=16, out_features=2, bias=True)\n",
            ")\n"
          ]
        }
      ],
      "source": [
        "#Архитектура нейронной сети\n",
        "class Net_2_layer(nn.Module):\n",
        "    def __init__(self):\n",
        "        super().__init__()  #вх. #вых.\n",
        "        self.fc1 = nn.Linear(20, 16)\n",
        "        self.fc2 = nn.Linear(16, 16)\n",
        "        self.fc3 = nn.Linear(16, 16)\n",
        "        self.fc4 = nn.Linear(16, 2)\n",
        "\n",
        "    def forward(self, x):\n",
        "        x = F.relu(self.fc1(x))\n",
        "        x = F.relu(self.fc2(x))\n",
        "        x = F.relu(self.fc3(x))\n",
        "        x = self.fc4(x)\n",
        "        return F.log_softmax(x, dim=1)\n",
        "\n",
        "net_2_layer = Net_2_layer().to(device)\n",
        "print(net_2_layer)"
      ]
    },
    {
      "cell_type": "code",
      "execution_count": 27,
      "id": "GERUgr-mmbNa",
      "metadata": {
        "id": "GERUgr-mmbNa"
      },
      "outputs": [],
      "source": [
        "#Задаем оптимизатор и функцию потерь\n",
        "\n",
        "\n",
        "optimizer_2_layer = optim.SGD(net_2_layer.parameters(), lr=0.01) # регулирует изменяемые параметры нашей модели, а именно веса, чтобы они постепенно, с течением времени, приходили в соответствие нашим данным\n",
        "# lr - скорость обучения определяет величину изменений, которую оптимайзер может внести за один раз\n",
        "# Каждый полный проход по данным называется эпохой (epoch)"
      ]
    },
    {
      "cell_type": "code",
      "execution_count": 28,
      "id": "IK-QPLW2mbNb",
      "metadata": {
        "id": "IK-QPLW2mbNb"
      },
      "outputs": [],
      "source": [
        "#преобразование в тензоры\n",
        "inputs_train = torch.tensor(X_train).to(device)\n",
        "targets_train = torch.tensor(y_train).int().to(device)\n",
        "\n",
        "inputs_test = torch.tensor(X_test).to(device)\n",
        "targets_test = torch.tensor(y_test).int().to(device)\n",
        "\n",
        "train = data_utils.TensorDataset(inputs_train, targets_train)\n",
        "test = data_utils.TensorDataset(inputs_test, targets_test)\n",
        "\n",
        "trainset = torch.utils.data.DataLoader(train, shuffle=True)\n",
        "testset = torch.utils.data.DataLoader(test, shuffle=False)"
      ]
    },
    {
      "cell_type": "code",
      "execution_count": 29,
      "id": "ppyVOKsombNb",
      "metadata": {
        "colab": {
          "base_uri": "https://localhost:8080/"
        },
        "id": "ppyVOKsombNb",
        "outputId": "a145081d-9295-4790-9e47-bca85e63b08a"
      },
      "outputs": [
        {
          "name": "stdout",
          "output_type": "stream",
          "text": [
            "tensor(0.6592, grad_fn=<NllLossBackward0>)\n",
            "tensor(0.7356, grad_fn=<NllLossBackward0>)\n",
            "tensor(0.7149, grad_fn=<NllLossBackward0>)\n",
            "tensor(0.3831, grad_fn=<NllLossBackward0>)\n",
            "tensor(1.2606, grad_fn=<NllLossBackward0>)\n",
            "tensor(0.5238, grad_fn=<NllLossBackward0>)\n",
            "tensor(0.7455, grad_fn=<NllLossBackward0>)\n",
            "tensor(0.4544, grad_fn=<NllLossBackward0>)\n",
            "tensor(0.6935, grad_fn=<NllLossBackward0>)\n",
            "tensor(0.4782, grad_fn=<NllLossBackward0>)\n",
            "tensor(0.3551, grad_fn=<NllLossBackward0>)\n",
            "tensor(0.3507, grad_fn=<NllLossBackward0>)\n",
            "tensor(0.8327, grad_fn=<NllLossBackward0>)\n",
            "tensor(0.3346, grad_fn=<NllLossBackward0>)\n",
            "tensor(0.4552, grad_fn=<NllLossBackward0>)\n"
          ]
        }
      ],
      "source": [
        "for epoch in range(15): # 15 полных прохода по нашим данным\n",
        "    for data in trainset:  # `data` это батч наших данных\n",
        "        X, y = data  # X это батч свойств, y это батч целевых переменных.\n",
        "        net_2_layer.zero_grad()  # устанавливаем значение градиента в 0 перед вычислением функции потерь. Вам следует делать это на каждом шаге.\n",
        "        output = net_2_layer(X.float())  # передаем батч\n",
        "        #loss = F.nll_loss(output, y.long())  # вычисляем функцию потерь\n",
        "        loss = F.cross_entropy(output, y.long())\n",
        "        loss.backward()  # передаем это значение назад по сети\n",
        "        optimizer_2_layer.step()  # пытаемся оптимизировать значение весов исходя из потерь и градиента\n",
        "    print(loss)  # выводим на экран значение функции потерь. Мы надеемся, что оно убывает!"
      ]
    },
    {
      "cell_type": "code",
      "execution_count": 30,
      "id": "R4ro4JPbmbNc",
      "metadata": {
        "id": "R4ro4JPbmbNc"
      },
      "outputs": [],
      "source": [
        "#Предсказание меток классов для примеров из тестового множества\n",
        "ams = []\n",
        "with torch.no_grad():\n",
        "    for data in testset:\n",
        "        X, y = data\n",
        "        output = net_2_layer(X.float())\n",
        "        for idx, i in enumerate(output):\n",
        "            ams.append(torch.argmax(i).item())"
      ]
    },
    {
      "cell_type": "code",
      "execution_count": 31,
      "id": "ZYdvQJ47mbNd",
      "metadata": {
        "colab": {
          "base_uri": "https://localhost:8080/"
        },
        "id": "ZYdvQJ47mbNd",
        "outputId": "49642b31-874f-4d09-8d17-ac56e00eb324"
      },
      "outputs": [
        {
          "name": "stdout",
          "output_type": "stream",
          "text": [
            "torch.Size([1, 2])\n",
            "50\n",
            "              precision    recall  f1-score   support\n",
            "\n",
            "    negative       0.72      0.78      0.75        23\n",
            "    positive       0.80      0.74      0.77        27\n",
            "\n",
            "    accuracy                           0.76        50\n",
            "   macro avg       0.76      0.76      0.76        50\n",
            "weighted avg       0.76      0.76      0.76        50\n",
            "\n",
            "f1 = 0.7692307692307692\n"
          ]
        }
      ],
      "source": [
        "#Оценка качества классификации\n",
        "print(output.size())\n",
        "print(len(ams))\n",
        "\n",
        "target_names = ['negative', 'positive']\n",
        "print(classification_report(y_test, ams, target_names=target_names))\n",
        "print(f'f1 = {f1_score(y_test, ams)}')"
      ]
    },
    {
      "cell_type": "markdown",
      "id": "jcrq3YYfmdth",
      "metadata": {
        "id": "jcrq3YYfmdth"
      },
      "source": [
        "## Сеть c 2 скрытыми слоями, одинаковые слои, lr=0.001"
      ]
    },
    {
      "cell_type": "code",
      "execution_count": 32,
      "id": "jjmn4rXomdti",
      "metadata": {
        "id": "jjmn4rXomdti"
      },
      "outputs": [],
      "source": [
        "X_train = pd.read_csv('X_train_Final.csv').values\n",
        "y_train = np.array([0 if el[0] == -1 else el[0] for el in pd.read_csv('y_train_Final.csv', names=['class']).values.tolist()])\n",
        "X_test = pd.read_csv('X_test_Final.csv').values\n",
        "y_test = np.array([0 if el[0] == -1 else el[0] for el in pd.read_csv('y_test_Final.csv', names=['class']).values.tolist()])"
      ]
    },
    {
      "cell_type": "code",
      "execution_count": 33,
      "id": "Lq9khsu6mdtj",
      "metadata": {
        "colab": {
          "base_uri": "https://localhost:8080/"
        },
        "id": "Lq9khsu6mdtj",
        "outputId": "59b9646a-00e2-4192-aac7-d4c6bd15915e"
      },
      "outputs": [
        {
          "name": "stdout",
          "output_type": "stream",
          "text": [
            "Net_2_layer(\n",
            "  (fc1): Linear(in_features=20, out_features=16, bias=True)\n",
            "  (fc2): Linear(in_features=16, out_features=16, bias=True)\n",
            "  (fc3): Linear(in_features=16, out_features=16, bias=True)\n",
            "  (fc4): Linear(in_features=16, out_features=2, bias=True)\n",
            ")\n"
          ]
        }
      ],
      "source": [
        "#Архитектура нейронной сети\n",
        "class Net_2_layer(nn.Module):\n",
        "    def __init__(self):\n",
        "        super().__init__()  #вх. #вых.\n",
        "        self.fc1 = nn.Linear(20, 16)\n",
        "        self.fc2 = nn.Linear(16, 16)\n",
        "        self.fc3 = nn.Linear(16, 16)\n",
        "        self.fc4 = nn.Linear(16, 2)\n",
        "\n",
        "    def forward(self, x):\n",
        "        x = F.relu(self.fc1(x))\n",
        "        x = F.relu(self.fc2(x))\n",
        "        x = F.relu(self.fc3(x))\n",
        "        x = self.fc4(x)\n",
        "        return F.log_softmax(x, dim=1)\n",
        "\n",
        "net_2_layer = Net_2_layer().to(device)\n",
        "print(net_2_layer)"
      ]
    },
    {
      "cell_type": "code",
      "execution_count": 34,
      "id": "mvYzaD5vmdtk",
      "metadata": {
        "id": "mvYzaD5vmdtk"
      },
      "outputs": [],
      "source": [
        "#Задаем оптимизатор и функцию потерь\n",
        "\n",
        "\n",
        "optimizer_2_layer = optim.SGD(net_2_layer.parameters(), lr=0.001) # регулирует изменяемые параметры нашей модели, а именно веса, чтобы они постепенно, с течением времени, приходили в соответствие нашим данным\n",
        "# lr - скорость обучения определяет величину изменений, которую оптимайзер может внести за один раз\n",
        "# Каждый полный проход по данным называется эпохой (epoch)"
      ]
    },
    {
      "cell_type": "code",
      "execution_count": 35,
      "id": "jTyRPAARmdtl",
      "metadata": {
        "id": "jTyRPAARmdtl"
      },
      "outputs": [],
      "source": [
        "#преобразование в тензоры\n",
        "inputs_train = torch.tensor(X_train).to(device)\n",
        "targets_train = torch.tensor(y_train).int().to(device)\n",
        "\n",
        "inputs_test = torch.tensor(X_test).to(device)\n",
        "targets_test = torch.tensor(y_test).int().to(device)\n",
        "\n",
        "train = data_utils.TensorDataset(inputs_train, targets_train)\n",
        "test = data_utils.TensorDataset(inputs_test, targets_test)\n",
        "\n",
        "trainset = torch.utils.data.DataLoader(train, shuffle=True)\n",
        "testset = torch.utils.data.DataLoader(test, shuffle=False)"
      ]
    },
    {
      "cell_type": "code",
      "execution_count": 36,
      "id": "IVPi4oeHmdtl",
      "metadata": {
        "colab": {
          "base_uri": "https://localhost:8080/"
        },
        "id": "IVPi4oeHmdtl",
        "outputId": "187d2c38-fbec-41b2-eaac-75aeb9958bb9"
      },
      "outputs": [
        {
          "name": "stdout",
          "output_type": "stream",
          "text": [
            "tensor(0.5702, grad_fn=<NllLossBackward0>)\n",
            "tensor(0.5496, grad_fn=<NllLossBackward0>)\n",
            "tensor(1.0997, grad_fn=<NllLossBackward0>)\n",
            "tensor(0.4017, grad_fn=<NllLossBackward0>)\n",
            "tensor(0.5625, grad_fn=<NllLossBackward0>)\n",
            "tensor(0.7751, grad_fn=<NllLossBackward0>)\n",
            "tensor(0.2544, grad_fn=<NllLossBackward0>)\n",
            "tensor(0.3497, grad_fn=<NllLossBackward0>)\n",
            "tensor(0.5995, grad_fn=<NllLossBackward0>)\n",
            "tensor(0.4259, grad_fn=<NllLossBackward0>)\n",
            "tensor(0.6130, grad_fn=<NllLossBackward0>)\n",
            "tensor(0.6986, grad_fn=<NllLossBackward0>)\n",
            "tensor(0.3885, grad_fn=<NllLossBackward0>)\n",
            "tensor(0.5264, grad_fn=<NllLossBackward0>)\n",
            "tensor(0.7515, grad_fn=<NllLossBackward0>)\n"
          ]
        }
      ],
      "source": [
        "for epoch in range(15): # 15 полных прохода по нашим данным\n",
        "    for data in trainset:  # `data` это батч наших данных\n",
        "        X, y = data  # X это батч свойств, y это батч целевых переменных.\n",
        "        net_2_layer.zero_grad()  # устанавливаем значение градиента в 0 перед вычислением функции потерь. Вам следует делать это на каждом шаге.\n",
        "        output = net_2_layer(X.float())  # передаем батч\n",
        "        #loss = F.nll_loss(output, y.long())  # вычисляем функцию потерь\n",
        "        loss = F.cross_entropy(output, y.long())\n",
        "        loss.backward()  # передаем это значение назад по сети\n",
        "        optimizer_2_layer.step()  # пытаемся оптимизировать значение весов исходя из потерь и градиента\n",
        "    print(loss)  # выводим на экран значение функции потерь. Мы надеемся, что оно убывает!"
      ]
    },
    {
      "cell_type": "code",
      "execution_count": 37,
      "id": "IvMMTbZjmdtm",
      "metadata": {
        "id": "IvMMTbZjmdtm"
      },
      "outputs": [],
      "source": [
        "#Предсказание меток классов для примеров из тестового множества\n",
        "ams = []\n",
        "with torch.no_grad():\n",
        "    for data in testset:\n",
        "        X, y = data\n",
        "        output = net_2_layer(X.float())\n",
        "        for idx, i in enumerate(output):\n",
        "            ams.append(torch.argmax(i).item())"
      ]
    },
    {
      "cell_type": "code",
      "execution_count": 38,
      "id": "0nMI3QYImdtn",
      "metadata": {
        "colab": {
          "base_uri": "https://localhost:8080/"
        },
        "id": "0nMI3QYImdtn",
        "outputId": "3fb64683-794d-4aaa-e241-cfc42be5b55d"
      },
      "outputs": [
        {
          "name": "stdout",
          "output_type": "stream",
          "text": [
            "torch.Size([1, 2])\n",
            "50\n",
            "              precision    recall  f1-score   support\n",
            "\n",
            "    negative       0.79      0.65      0.71        23\n",
            "    positive       0.74      0.85      0.79        27\n",
            "\n",
            "    accuracy                           0.76        50\n",
            "   macro avg       0.77      0.75      0.75        50\n",
            "weighted avg       0.76      0.76      0.76        50\n",
            "\n",
            "f1 = 0.7931034482758621\n"
          ]
        }
      ],
      "source": [
        "#Оценка качества классификации\n",
        "print(output.size())\n",
        "print(len(ams))\n",
        "\n",
        "target_names = ['negative', 'positive']\n",
        "print(classification_report(y_test, ams, target_names=target_names))\n",
        "print(f'f1 = {f1_score(y_test, ams)}')"
      ]
    },
    {
      "cell_type": "markdown",
      "id": "Tv9-ok4Qmhb6",
      "metadata": {
        "id": "Tv9-ok4Qmhb6"
      },
      "source": [
        "## Сеть c 2 скрытыми слоями, одинаковые слои, lr=0.0001"
      ]
    },
    {
      "cell_type": "code",
      "execution_count": 39,
      "id": "PKxgatHBmhb7",
      "metadata": {
        "id": "PKxgatHBmhb7"
      },
      "outputs": [],
      "source": [
        "X_train = pd.read_csv('X_train_Final.csv').values\n",
        "y_train = np.array([0 if el[0] == -1 else el[0] for el in pd.read_csv('y_train_Final.csv', names=['class']).values.tolist()])\n",
        "X_test = pd.read_csv('X_test_Final.csv').values\n",
        "y_test = np.array([0 if el[0] == -1 else el[0] for el in pd.read_csv('y_test_Final.csv', names=['class']).values.tolist()])"
      ]
    },
    {
      "cell_type": "code",
      "execution_count": 40,
      "id": "YC_ABsakmhb8",
      "metadata": {
        "colab": {
          "base_uri": "https://localhost:8080/"
        },
        "id": "YC_ABsakmhb8",
        "outputId": "5541da69-8f61-48aa-9326-032b52fc4164"
      },
      "outputs": [
        {
          "name": "stdout",
          "output_type": "stream",
          "text": [
            "Net_2_layer(\n",
            "  (fc1): Linear(in_features=20, out_features=16, bias=True)\n",
            "  (fc2): Linear(in_features=16, out_features=16, bias=True)\n",
            "  (fc3): Linear(in_features=16, out_features=16, bias=True)\n",
            "  (fc4): Linear(in_features=16, out_features=2, bias=True)\n",
            ")\n"
          ]
        }
      ],
      "source": [
        "#Архитектура нейронной сети\n",
        "class Net_2_layer(nn.Module):\n",
        "    def __init__(self):\n",
        "        super().__init__()  #вх. #вых.\n",
        "        self.fc1 = nn.Linear(20, 16)\n",
        "        self.fc2 = nn.Linear(16, 16)\n",
        "        self.fc3 = nn.Linear(16, 16)\n",
        "        self.fc4 = nn.Linear(16, 2)\n",
        "\n",
        "    def forward(self, x):\n",
        "        x = F.relu(self.fc1(x))\n",
        "        x = F.relu(self.fc2(x))\n",
        "        x = F.relu(self.fc3(x))\n",
        "        x = self.fc4(x)\n",
        "        return F.log_softmax(x, dim=1)\n",
        "\n",
        "net_2_layer = Net_2_layer().to(device)\n",
        "print(net_2_layer)"
      ]
    },
    {
      "cell_type": "code",
      "execution_count": 41,
      "id": "zt5Kpbwumhb9",
      "metadata": {
        "id": "zt5Kpbwumhb9"
      },
      "outputs": [],
      "source": [
        "#Задаем оптимизатор и функцию потерь\n",
        "\n",
        "\n",
        "optimizer_2_layer = optim.SGD(net_2_layer.parameters(), lr=0.0001) # регулирует изменяемые параметры нашей модели, а именно веса, чтобы они постепенно, с течением времени, приходили в соответствие нашим данным\n",
        "# lr - скорость обучения определяет величину изменений, которую оптимайзер может внести за один раз\n",
        "# Каждый полный проход по данным называется эпохой (epoch)"
      ]
    },
    {
      "cell_type": "code",
      "execution_count": 42,
      "id": "zOUpJyHnmhb9",
      "metadata": {
        "id": "zOUpJyHnmhb9"
      },
      "outputs": [],
      "source": [
        "#преобразование в тензоры\n",
        "inputs_train = torch.tensor(X_train).to(device)\n",
        "targets_train = torch.tensor(y_train).int().to(device)\n",
        "\n",
        "inputs_test = torch.tensor(X_test).to(device)\n",
        "targets_test = torch.tensor(y_test).int().to(device)\n",
        "\n",
        "train = data_utils.TensorDataset(inputs_train, targets_train)\n",
        "test = data_utils.TensorDataset(inputs_test, targets_test)\n",
        "\n",
        "trainset = torch.utils.data.DataLoader(train, shuffle=True)\n",
        "testset = torch.utils.data.DataLoader(test, shuffle=False)"
      ]
    },
    {
      "cell_type": "code",
      "execution_count": 43,
      "id": "jlfJfR06mhb-",
      "metadata": {
        "colab": {
          "base_uri": "https://localhost:8080/"
        },
        "id": "jlfJfR06mhb-",
        "outputId": "e7784bef-02ba-430e-8af5-5952a0dc8121"
      },
      "outputs": [
        {
          "name": "stdout",
          "output_type": "stream",
          "text": [
            "tensor(0.6574, grad_fn=<NllLossBackward0>)\n",
            "tensor(0.7843, grad_fn=<NllLossBackward0>)\n",
            "tensor(0.6048, grad_fn=<NllLossBackward0>)\n",
            "tensor(0.8009, grad_fn=<NllLossBackward0>)\n",
            "tensor(0.6763, grad_fn=<NllLossBackward0>)\n",
            "tensor(0.5091, grad_fn=<NllLossBackward0>)\n",
            "tensor(0.3542, grad_fn=<NllLossBackward0>)\n",
            "tensor(0.5508, grad_fn=<NllLossBackward0>)\n",
            "tensor(1.0533, grad_fn=<NllLossBackward0>)\n",
            "tensor(0.7505, grad_fn=<NllLossBackward0>)\n",
            "tensor(0.8456, grad_fn=<NllLossBackward0>)\n",
            "tensor(0.4631, grad_fn=<NllLossBackward0>)\n",
            "tensor(0.4595, grad_fn=<NllLossBackward0>)\n",
            "tensor(0.4857, grad_fn=<NllLossBackward0>)\n",
            "tensor(0.8733, grad_fn=<NllLossBackward0>)\n"
          ]
        }
      ],
      "source": [
        "for epoch in range(15): # 15 полных прохода по нашим данным\n",
        "    for data in trainset:  # `data` это батч наших данных\n",
        "        X, y = data  # X это батч свойств, y это батч целевых переменных.\n",
        "        net_2_layer.zero_grad()  # устанавливаем значение градиента в 0 перед вычислением функции потерь. Вам следует делать это на каждом шаге.\n",
        "        output = net_2_layer(X.float())  # передаем батч\n",
        "        #loss = F.nll_loss(output, y.long())  # вычисляем функцию потерь\n",
        "        loss = F.cross_entropy(output, y.long())\n",
        "        loss.backward()  # передаем это значение назад по сети\n",
        "        optimizer_2_layer.step()  # пытаемся оптимизировать значение весов исходя из потерь и градиента\n",
        "    print(loss)  # выводим на экран значение функции потерь. Мы надеемся, что оно убывает!"
      ]
    },
    {
      "cell_type": "code",
      "execution_count": 44,
      "id": "bmH78-FBmhb_",
      "metadata": {
        "id": "bmH78-FBmhb_"
      },
      "outputs": [],
      "source": [
        "#Предсказание меток классов для примеров из тестового множества\n",
        "ams = []\n",
        "with torch.no_grad():\n",
        "    for data in testset:\n",
        "        X, y = data\n",
        "        output = net_2_layer(X.float())\n",
        "        for idx, i in enumerate(output):\n",
        "            ams.append(torch.argmax(i).item())"
      ]
    },
    {
      "cell_type": "code",
      "execution_count": 45,
      "id": "oXEg6dbsmhb_",
      "metadata": {
        "colab": {
          "base_uri": "https://localhost:8080/"
        },
        "id": "oXEg6dbsmhb_",
        "outputId": "85db88aa-ad76-4229-a01a-b8a6c8455420"
      },
      "outputs": [
        {
          "name": "stdout",
          "output_type": "stream",
          "text": [
            "torch.Size([1, 2])\n",
            "50\n",
            "              precision    recall  f1-score   support\n",
            "\n",
            "    negative       0.75      0.65      0.70        23\n",
            "    positive       0.73      0.81      0.77        27\n",
            "\n",
            "    accuracy                           0.74        50\n",
            "   macro avg       0.74      0.73      0.73        50\n",
            "weighted avg       0.74      0.74      0.74        50\n",
            "\n",
            "f1 = 0.7719298245614035\n"
          ]
        }
      ],
      "source": [
        "#Оценка качества классификации\n",
        "print(output.size())\n",
        "print(len(ams))\n",
        "\n",
        "target_names = ['negative', 'positive']\n",
        "print(classification_report(y_test, ams, target_names=target_names))\n",
        "print(f'f1 = {f1_score(y_test, ams)}')"
      ]
    },
    {
      "cell_type": "markdown",
      "id": "JRiPVfwVOOdY",
      "metadata": {
        "id": "JRiPVfwVOOdY"
      },
      "source": [
        "## Сеть c 3 скрытыми слоями, разные слои, lr=0.01"
      ]
    },
    {
      "cell_type": "code",
      "execution_count": 46,
      "id": "vaC444VoOOdh",
      "metadata": {
        "id": "vaC444VoOOdh"
      },
      "outputs": [],
      "source": [
        "X_train = pd.read_csv('X_train_Final.csv').values\n",
        "y_train = np.array([0 if el[0] == -1 else el[0] for el in pd.read_csv('y_train_Final.csv', names=['class']).values.tolist()])\n",
        "X_test = pd.read_csv('X_test_Final.csv').values\n",
        "y_test = np.array([0 if el[0] == -1 else el[0] for el in pd.read_csv('y_test_Final.csv', names=['class']).values.tolist()])"
      ]
    },
    {
      "cell_type": "code",
      "execution_count": 47,
      "id": "BjR46l1JOOdi",
      "metadata": {
        "colab": {
          "base_uri": "https://localhost:8080/"
        },
        "id": "BjR46l1JOOdi",
        "outputId": "1d975339-290a-4647-a508-7c31209d6a67"
      },
      "outputs": [
        {
          "name": "stdout",
          "output_type": "stream",
          "text": [
            "Net_3_layer(\n",
            "  (fc1): Linear(in_features=20, out_features=32, bias=True)\n",
            "  (fc2): Linear(in_features=32, out_features=16, bias=True)\n",
            "  (fc3): Linear(in_features=16, out_features=8, bias=True)\n",
            "  (fc4): Linear(in_features=8, out_features=4, bias=True)\n",
            "  (fc5): Linear(in_features=4, out_features=2, bias=True)\n",
            ")\n"
          ]
        }
      ],
      "source": [
        "#Архитектура нейронной сети\n",
        "class Net_3_layer(nn.Module):\n",
        "    def __init__(self):\n",
        "        super().__init__()  #вх. #вых.\n",
        "        self.fc1 = nn.Linear(20, 32)\n",
        "        self.fc2 = nn.Linear(32, 16)\n",
        "        self.fc3 = nn.Linear(16, 8)\n",
        "        self.fc4 = nn.Linear(8, 4)\n",
        "        self.fc5 = nn.Linear(4, 2)\n",
        "\n",
        "    def forward(self, x):\n",
        "        x = F.relu(self.fc1(x))\n",
        "        x = F.relu(self.fc2(x))\n",
        "        x = F.relu(self.fc3(x))\n",
        "        x = F.relu(self.fc4(x))\n",
        "        x = self.fc5(x)\n",
        "        return F.log_softmax(x, dim=1)\n",
        "\n",
        "net_3_layer = Net_3_layer().to(device)\n",
        "print(net_3_layer)"
      ]
    },
    {
      "cell_type": "code",
      "execution_count": 48,
      "id": "deIXO0RDOOdj",
      "metadata": {
        "id": "deIXO0RDOOdj"
      },
      "outputs": [],
      "source": [
        "#Задаем оптимизатор и функцию потерь\n",
        "\n",
        "\n",
        "optimizer_3_layer = optim.SGD(net_3_layer.parameters(), lr=0.01) # регулирует изменяемые параметры нашей модели, а именно веса, чтобы они постепенно, с течением времени, приходили в соответствие нашим данным\n",
        "# lr - скорость обучения определяет величину изменений, которую оптимайзер может внести за один раз\n",
        "# Каждый полный проход по данным называется эпохой (epoch)"
      ]
    },
    {
      "cell_type": "code",
      "execution_count": 49,
      "id": "ZRYvHcGkOOdj",
      "metadata": {
        "id": "ZRYvHcGkOOdj"
      },
      "outputs": [],
      "source": [
        "#преобразование в тензоры\n",
        "inputs_train = torch.tensor(X_train).to(device)\n",
        "targets_train = torch.tensor(y_train).int().to(device)\n",
        "\n",
        "inputs_test = torch.tensor(X_test).to(device)\n",
        "targets_test = torch.tensor(y_test).int().to(device)\n",
        "\n",
        "train = data_utils.TensorDataset(inputs_train, targets_train)\n",
        "test = data_utils.TensorDataset(inputs_test, targets_test)\n",
        "\n",
        "trainset = torch.utils.data.DataLoader(train, shuffle=True)\n",
        "testset = torch.utils.data.DataLoader(test, shuffle=False)"
      ]
    },
    {
      "cell_type": "code",
      "execution_count": 50,
      "id": "9q401xa4OOdj",
      "metadata": {
        "colab": {
          "base_uri": "https://localhost:8080/"
        },
        "id": "9q401xa4OOdj",
        "outputId": "a473e74f-e038-40d2-9f37-881bc7e4a7d3"
      },
      "outputs": [
        {
          "name": "stdout",
          "output_type": "stream",
          "text": [
            "tensor(0.6438, grad_fn=<NllLossBackward0>)\n",
            "tensor(0.7732, grad_fn=<NllLossBackward0>)\n",
            "tensor(0.8834, grad_fn=<NllLossBackward0>)\n",
            "tensor(1.1941, grad_fn=<NllLossBackward0>)\n",
            "tensor(0.5586, grad_fn=<NllLossBackward0>)\n",
            "tensor(0.6656, grad_fn=<NllLossBackward0>)\n",
            "tensor(0.3545, grad_fn=<NllLossBackward0>)\n",
            "tensor(1.2170, grad_fn=<NllLossBackward0>)\n",
            "tensor(0.7411, grad_fn=<NllLossBackward0>)\n",
            "tensor(0.7073, grad_fn=<NllLossBackward0>)\n",
            "tensor(0.2350, grad_fn=<NllLossBackward0>)\n",
            "tensor(0.8363, grad_fn=<NllLossBackward0>)\n",
            "tensor(0.1166, grad_fn=<NllLossBackward0>)\n",
            "tensor(1.1427, grad_fn=<NllLossBackward0>)\n",
            "tensor(0.7229, grad_fn=<NllLossBackward0>)\n"
          ]
        }
      ],
      "source": [
        "for epoch in range(15): # 15 полных прохода по нашим данным\n",
        "    for data in trainset:  # `data` это батч наших данных\n",
        "        X, y = data  # X это батч свойств, y это батч целевых переменных.\n",
        "        net_3_layer.zero_grad()  # устанавливаем значение градиента в 0 перед вычислением функции потерь. Вам следует делать это на каждом шаге.\n",
        "        output = net_3_layer(X.float())  # передаем батч\n",
        "        #loss = F.nll_loss(output, y.long())  # вычисляем функцию потерь\n",
        "        loss = F.cross_entropy(output, y.long())\n",
        "        loss.backward()  # передаем это значение назад по сети\n",
        "        optimizer_3_layer.step()  # пытаемся оптимизировать значение весов исходя из потерь и градиента\n",
        "    print(loss)  # выводим на экран значение функции потерь. Мы надеемся, что оно убывает!"
      ]
    },
    {
      "cell_type": "code",
      "execution_count": 51,
      "id": "m6hvDIC7OOdk",
      "metadata": {
        "id": "m6hvDIC7OOdk"
      },
      "outputs": [],
      "source": [
        "#Предсказание меток классов для примеров из тестового множества\n",
        "ams = []\n",
        "with torch.no_grad():\n",
        "    for data in testset:\n",
        "        X, y = data\n",
        "        output = net_3_layer(X.float())\n",
        "        for idx, i in enumerate(output):\n",
        "            ams.append(torch.argmax(i).item())"
      ]
    },
    {
      "cell_type": "code",
      "execution_count": 52,
      "id": "3Z9Jv0duOOdk",
      "metadata": {
        "colab": {
          "base_uri": "https://localhost:8080/"
        },
        "id": "3Z9Jv0duOOdk",
        "outputId": "93297fb9-c6a1-4365-bfb8-4692ba3912a6"
      },
      "outputs": [
        {
          "name": "stdout",
          "output_type": "stream",
          "text": [
            "torch.Size([1, 2])\n",
            "50\n",
            "              precision    recall  f1-score   support\n",
            "\n",
            "    negative       0.69      0.39      0.50        23\n",
            "    positive       0.62      0.85      0.72        27\n",
            "\n",
            "    accuracy                           0.64        50\n",
            "   macro avg       0.66      0.62      0.61        50\n",
            "weighted avg       0.65      0.64      0.62        50\n",
            "\n"
          ]
        }
      ],
      "source": [
        "#Оценка качества классификации\n",
        "print(output.size())\n",
        "print(len(ams))\n",
        "\n",
        "target_names = ['negative', 'positive']\n",
        "print(classification_report(y_test, ams, target_names=target_names))\n",
        "# print(f'f1 = {f1_score(y_test, ams, average='weighted', labels = [0, 1])}')"
      ]
    },
    {
      "cell_type": "markdown",
      "id": "MSvRndCKo9nM",
      "metadata": {
        "id": "MSvRndCKo9nM"
      },
      "source": [
        "## Сеть c 3 скрытыми слоями, разные слои, lr=0.001"
      ]
    },
    {
      "cell_type": "code",
      "execution_count": 53,
      "id": "xERYOYvso9nU",
      "metadata": {
        "id": "xERYOYvso9nU"
      },
      "outputs": [],
      "source": [
        "X_train = pd.read_csv('X_train_Final.csv').values\n",
        "y_train = np.array([0 if el[0] == -1 else el[0] for el in pd.read_csv('y_train_Final.csv', names=['class']).values.tolist()])\n",
        "X_test = pd.read_csv('X_test_Final.csv').values\n",
        "y_test = np.array([0 if el[0] == -1 else el[0] for el in pd.read_csv('y_test_Final.csv', names=['class']).values.tolist()])"
      ]
    },
    {
      "cell_type": "code",
      "execution_count": 54,
      "id": "2o_3gCugo9nU",
      "metadata": {
        "colab": {
          "base_uri": "https://localhost:8080/"
        },
        "id": "2o_3gCugo9nU",
        "outputId": "0ecfcc2e-2bac-4236-d1ab-6e10306178b1"
      },
      "outputs": [
        {
          "name": "stdout",
          "output_type": "stream",
          "text": [
            "Net_3_layer(\n",
            "  (fc1): Linear(in_features=20, out_features=32, bias=True)\n",
            "  (fc2): Linear(in_features=32, out_features=16, bias=True)\n",
            "  (fc3): Linear(in_features=16, out_features=8, bias=True)\n",
            "  (fc4): Linear(in_features=8, out_features=4, bias=True)\n",
            "  (fc5): Linear(in_features=4, out_features=2, bias=True)\n",
            ")\n"
          ]
        }
      ],
      "source": [
        "#Архитектура нейронной сети\n",
        "class Net_3_layer(nn.Module):\n",
        "    def __init__(self):\n",
        "        super().__init__()  #вх. #вых.\n",
        "        self.fc1 = nn.Linear(20, 32)\n",
        "        self.fc2 = nn.Linear(32, 16)\n",
        "        self.fc3 = nn.Linear(16, 8)\n",
        "        self.fc4 = nn.Linear(8, 4)\n",
        "        self.fc5 = nn.Linear(4, 2)\n",
        "\n",
        "    def forward(self, x):\n",
        "        x = F.relu(self.fc1(x))\n",
        "        x = F.relu(self.fc2(x))\n",
        "        x = F.relu(self.fc3(x))\n",
        "        x = F.relu(self.fc4(x))\n",
        "        x = self.fc5(x)\n",
        "        return F.log_softmax(x, dim=1)\n",
        "\n",
        "net_3_layer = Net_3_layer().to(device)\n",
        "print(net_3_layer)"
      ]
    },
    {
      "cell_type": "code",
      "execution_count": 55,
      "id": "edkVZPmro9nU",
      "metadata": {
        "id": "edkVZPmro9nU"
      },
      "outputs": [],
      "source": [
        "#Задаем оптимизатор и функцию потерь\n",
        "\n",
        "\n",
        "optimizer_3_layer = optim.SGD(net_3_layer.parameters(), lr=0.001) # регулирует изменяемые параметры нашей модели, а именно веса, чтобы они постепенно, с течением времени, приходили в соответствие нашим данным\n",
        "# lr - скорость обучения определяет величину изменений, которую оптимайзер может внести за один раз\n",
        "# Каждый полный проход по данным называется эпохой (epoch)"
      ]
    },
    {
      "cell_type": "code",
      "execution_count": 56,
      "id": "IfTkqc-zo9nV",
      "metadata": {
        "id": "IfTkqc-zo9nV"
      },
      "outputs": [],
      "source": [
        "#преобразование в тензоры\n",
        "inputs_train = torch.tensor(X_train).to(device)\n",
        "targets_train = torch.tensor(y_train).int().to(device)\n",
        "\n",
        "inputs_test = torch.tensor(X_test).to(device)\n",
        "targets_test = torch.tensor(y_test).int().to(device)\n",
        "\n",
        "train = data_utils.TensorDataset(inputs_train, targets_train)\n",
        "test = data_utils.TensorDataset(inputs_test, targets_test)\n",
        "\n",
        "trainset = torch.utils.data.DataLoader(train, shuffle=True)\n",
        "testset = torch.utils.data.DataLoader(test, shuffle=False)"
      ]
    },
    {
      "cell_type": "code",
      "execution_count": 57,
      "id": "zco2rLu0o9nV",
      "metadata": {
        "colab": {
          "base_uri": "https://localhost:8080/"
        },
        "id": "zco2rLu0o9nV",
        "outputId": "63a1ec8c-4f81-47b6-c9b4-4ce112605138"
      },
      "outputs": [
        {
          "name": "stdout",
          "output_type": "stream",
          "text": [
            "tensor(0.4060, grad_fn=<NllLossBackward0>)\n",
            "tensor(0.3196, grad_fn=<NllLossBackward0>)\n",
            "tensor(0.3433, grad_fn=<NllLossBackward0>)\n",
            "tensor(0.3873, grad_fn=<NllLossBackward0>)\n",
            "tensor(0.4286, grad_fn=<NllLossBackward0>)\n",
            "tensor(0.5999, grad_fn=<NllLossBackward0>)\n",
            "tensor(0.7312, grad_fn=<NllLossBackward0>)\n",
            "tensor(0.2862, grad_fn=<NllLossBackward0>)\n",
            "tensor(0.5396, grad_fn=<NllLossBackward0>)\n",
            "tensor(0.6180, grad_fn=<NllLossBackward0>)\n",
            "tensor(0.6753, grad_fn=<NllLossBackward0>)\n",
            "tensor(1.0316, grad_fn=<NllLossBackward0>)\n",
            "tensor(0.7847, grad_fn=<NllLossBackward0>)\n",
            "tensor(0.8569, grad_fn=<NllLossBackward0>)\n",
            "tensor(0.3438, grad_fn=<NllLossBackward0>)\n"
          ]
        }
      ],
      "source": [
        "for epoch in range(15): # 15 полных прохода по нашим данным\n",
        "    for data in trainset:  # `data` это батч наших данных\n",
        "        X, y = data  # X это батч свойств, y это батч целевых переменных.\n",
        "        net_3_layer.zero_grad()  # устанавливаем значение градиента в 0 перед вычислением функции потерь. Вам следует делать это на каждом шаге.\n",
        "        output = net_3_layer(X.float())  # передаем батч\n",
        "        #loss = F.nll_loss(output, y.long())  # вычисляем функцию потерь\n",
        "        loss = F.cross_entropy(output, y.long())\n",
        "        loss.backward()  # передаем это значение назад по сети\n",
        "        optimizer_3_layer.step()  # пытаемся оптимизировать значение весов исходя из потерь и градиента\n",
        "    print(loss)  # выводим на экран значение функции потерь. Мы надеемся, что оно убывает!"
      ]
    },
    {
      "cell_type": "code",
      "execution_count": 58,
      "id": "JEgVdXdZo9nW",
      "metadata": {
        "id": "JEgVdXdZo9nW"
      },
      "outputs": [],
      "source": [
        "#Предсказание меток классов для примеров из тестового множества\n",
        "ams = []\n",
        "with torch.no_grad():\n",
        "    for data in testset:\n",
        "        X, y = data\n",
        "        output = net_3_layer(X.float())\n",
        "        for idx, i in enumerate(output):\n",
        "            ams.append(torch.argmax(i).item())"
      ]
    },
    {
      "cell_type": "code",
      "execution_count": 59,
      "id": "ZezdPWCio9nW",
      "metadata": {
        "colab": {
          "base_uri": "https://localhost:8080/"
        },
        "id": "ZezdPWCio9nW",
        "outputId": "d17a58ca-586a-4717-a960-4b79133571df"
      },
      "outputs": [
        {
          "name": "stdout",
          "output_type": "stream",
          "text": [
            "torch.Size([1, 2])\n",
            "50\n",
            "              precision    recall  f1-score   support\n",
            "\n",
            "    negative       0.76      0.70      0.73        23\n",
            "    positive       0.76      0.81      0.79        27\n",
            "\n",
            "    accuracy                           0.76        50\n",
            "   macro avg       0.76      0.76      0.76        50\n",
            "weighted avg       0.76      0.76      0.76        50\n",
            "\n"
          ]
        }
      ],
      "source": [
        "#Оценка качества классификации\n",
        "print(output.size())\n",
        "print(len(ams))\n",
        "\n",
        "target_names = ['negative', 'positive']\n",
        "print(classification_report(y_test, ams, target_names=target_names))\n",
        "# print(f'f1 = {f1_score(y_test, ams, average='weighted', labels = [0, 1])}')"
      ]
    },
    {
      "cell_type": "markdown",
      "id": "lSadA7atpSP2",
      "metadata": {
        "id": "lSadA7atpSP2"
      },
      "source": [
        "## Сеть c 3 скрытыми слоями, разные слои, lr=0.0001"
      ]
    },
    {
      "cell_type": "code",
      "execution_count": 60,
      "id": "99QP5xNqpSP3",
      "metadata": {
        "id": "99QP5xNqpSP3"
      },
      "outputs": [],
      "source": [
        "X_train = pd.read_csv('X_train_Final.csv').values\n",
        "y_train = np.array([0 if el[0] == -1 else el[0] for el in pd.read_csv('y_train_Final.csv', names=['class']).values.tolist()])\n",
        "X_test = pd.read_csv('X_test_Final.csv').values\n",
        "y_test = np.array([0 if el[0] == -1 else el[0] for el in pd.read_csv('y_test_Final.csv', names=['class']).values.tolist()])"
      ]
    },
    {
      "cell_type": "code",
      "execution_count": 61,
      "id": "vFUHpuwlpSP4",
      "metadata": {
        "colab": {
          "base_uri": "https://localhost:8080/"
        },
        "id": "vFUHpuwlpSP4",
        "outputId": "a366a83c-b9dd-4ee8-b12c-8277fb9bfa81"
      },
      "outputs": [
        {
          "name": "stdout",
          "output_type": "stream",
          "text": [
            "Net_3_layer(\n",
            "  (fc1): Linear(in_features=20, out_features=32, bias=True)\n",
            "  (fc2): Linear(in_features=32, out_features=16, bias=True)\n",
            "  (fc3): Linear(in_features=16, out_features=8, bias=True)\n",
            "  (fc4): Linear(in_features=8, out_features=4, bias=True)\n",
            "  (fc5): Linear(in_features=4, out_features=2, bias=True)\n",
            ")\n"
          ]
        }
      ],
      "source": [
        "#Архитектура нейронной сети\n",
        "class Net_3_layer(nn.Module):\n",
        "    def __init__(self):\n",
        "        super().__init__()  #вх. #вых.\n",
        "        self.fc1 = nn.Linear(20, 32)\n",
        "        self.fc2 = nn.Linear(32, 16)\n",
        "        self.fc3 = nn.Linear(16, 8)\n",
        "        self.fc4 = nn.Linear(8, 4)\n",
        "        self.fc5 = nn.Linear(4, 2)\n",
        "\n",
        "    def forward(self, x):\n",
        "        x = F.relu(self.fc1(x))\n",
        "        x = F.relu(self.fc2(x))\n",
        "        x = F.relu(self.fc3(x))\n",
        "        x = F.relu(self.fc4(x))\n",
        "        x = self.fc5(x)\n",
        "        return F.log_softmax(x, dim=1)\n",
        "\n",
        "net_3_layer = Net_3_layer().to(device)\n",
        "print(net_3_layer)"
      ]
    },
    {
      "cell_type": "code",
      "execution_count": 62,
      "id": "v6Rzk7UppSP4",
      "metadata": {
        "id": "v6Rzk7UppSP4"
      },
      "outputs": [],
      "source": [
        "#Задаем оптимизатор и функцию потерь\n",
        "\n",
        "\n",
        "optimizer_3_layer = optim.SGD(net_3_layer.parameters(), lr=0.0001) # регулирует изменяемые параметры нашей модели, а именно веса, чтобы они постепенно, с течением времени, приходили в соответствие нашим данным\n",
        "# lr - скорость обучения определяет величину изменений, которую оптимайзер может внести за один раз\n",
        "# Каждый полный проход по данным называется эпохой (epoch)"
      ]
    },
    {
      "cell_type": "code",
      "execution_count": 63,
      "id": "jeRzrLiUpSP5",
      "metadata": {
        "id": "jeRzrLiUpSP5"
      },
      "outputs": [],
      "source": [
        "#преобразование в тензоры\n",
        "inputs_train = torch.tensor(X_train).to(device)\n",
        "targets_train = torch.tensor(y_train).int().to(device)\n",
        "\n",
        "inputs_test = torch.tensor(X_test).to(device)\n",
        "targets_test = torch.tensor(y_test).int().to(device)\n",
        "\n",
        "train = data_utils.TensorDataset(inputs_train, targets_train)\n",
        "test = data_utils.TensorDataset(inputs_test, targets_test)\n",
        "\n",
        "trainset = torch.utils.data.DataLoader(train, shuffle=True)\n",
        "testset = torch.utils.data.DataLoader(test, shuffle=False)"
      ]
    },
    {
      "cell_type": "code",
      "execution_count": 64,
      "id": "YGJWj2BfpSP5",
      "metadata": {
        "colab": {
          "base_uri": "https://localhost:8080/"
        },
        "id": "YGJWj2BfpSP5",
        "outputId": "3f56238e-7e56-4fe3-ae23-716e71af1118"
      },
      "outputs": [
        {
          "name": "stdout",
          "output_type": "stream",
          "text": [
            "tensor(0.7999, grad_fn=<NllLossBackward0>)\n",
            "tensor(0.6153, grad_fn=<NllLossBackward0>)\n",
            "tensor(0.6234, grad_fn=<NllLossBackward0>)\n",
            "tensor(0.7637, grad_fn=<NllLossBackward0>)\n",
            "tensor(0.6215, grad_fn=<NllLossBackward0>)\n",
            "tensor(0.7731, grad_fn=<NllLossBackward0>)\n",
            "tensor(0.7608, grad_fn=<NllLossBackward0>)\n",
            "tensor(0.6167, grad_fn=<NllLossBackward0>)\n",
            "tensor(0.8075, grad_fn=<NllLossBackward0>)\n",
            "tensor(0.6454, grad_fn=<NllLossBackward0>)\n",
            "tensor(0.5406, grad_fn=<NllLossBackward0>)\n",
            "tensor(0.5742, grad_fn=<NllLossBackward0>)\n",
            "tensor(0.5078, grad_fn=<NllLossBackward0>)\n",
            "tensor(0.7092, grad_fn=<NllLossBackward0>)\n",
            "tensor(0.7086, grad_fn=<NllLossBackward0>)\n"
          ]
        }
      ],
      "source": [
        "for epoch in range(15): # 15 полных прохода по нашим данным\n",
        "    for data in trainset:  # `data` это батч наших данных\n",
        "        X, y = data  # X это батч свойств, y это батч целевых переменных.\n",
        "        net_3_layer.zero_grad()  # устанавливаем значение градиента в 0 перед вычислением функции потерь. Вам следует делать это на каждом шаге.\n",
        "        output = net_3_layer(X.float())  # передаем батч\n",
        "        #loss = F.nll_loss(output, y.long())  # вычисляем функцию потерь\n",
        "        loss = F.cross_entropy(output, y.long())\n",
        "        loss.backward()  # передаем это значение назад по сети\n",
        "        optimizer_3_layer.step()  # пытаемся оптимизировать значение весов исходя из потерь и градиента\n",
        "    print(loss)  # выводим на экран значение функции потерь. Мы надеемся, что оно убывает!"
      ]
    },
    {
      "cell_type": "code",
      "execution_count": 65,
      "id": "JVCsIcjkpSP6",
      "metadata": {
        "id": "JVCsIcjkpSP6"
      },
      "outputs": [],
      "source": [
        "#Предсказание меток классов для примеров из тестового множества\n",
        "ams = []\n",
        "with torch.no_grad():\n",
        "    for data in testset:\n",
        "        X, y = data\n",
        "        output = net_3_layer(X.float())\n",
        "        for idx, i in enumerate(output):\n",
        "            ams.append(torch.argmax(i).item())"
      ]
    },
    {
      "cell_type": "code",
      "execution_count": 66,
      "id": "O26JRWdApSP7",
      "metadata": {
        "colab": {
          "base_uri": "https://localhost:8080/"
        },
        "id": "O26JRWdApSP7",
        "outputId": "fba166ad-8bef-436c-f918-0af39f6a8a5e"
      },
      "outputs": [
        {
          "name": "stdout",
          "output_type": "stream",
          "text": [
            "torch.Size([1, 2])\n",
            "50\n",
            "              precision    recall  f1-score   support\n",
            "\n",
            "    negative       0.68      0.65      0.67        23\n",
            "    positive       0.71      0.74      0.73        27\n",
            "\n",
            "    accuracy                           0.70        50\n",
            "   macro avg       0.70      0.70      0.70        50\n",
            "weighted avg       0.70      0.70      0.70        50\n",
            "\n"
          ]
        }
      ],
      "source": [
        "#Оценка качества классификации\n",
        "print(output.size())\n",
        "print(len(ams))\n",
        "\n",
        "target_names = ['negative', 'positive']\n",
        "print(classification_report(y_test, ams, target_names=target_names))\n",
        "# print(f'f1 = {f1_score(y_test, ams, average='weighted', labels = [0, 1])}')"
      ]
    },
    {
      "cell_type": "markdown",
      "id": "YX47aVQ7pbVj",
      "metadata": {
        "id": "YX47aVQ7pbVj"
      },
      "source": [
        "## Сеть c 3 скрытыми слоями, одинаковые слои, lr=0.01"
      ]
    },
    {
      "cell_type": "code",
      "execution_count": 67,
      "id": "x90Yh5UjpbVk",
      "metadata": {
        "id": "x90Yh5UjpbVk"
      },
      "outputs": [],
      "source": [
        "X_train = pd.read_csv('X_train_Final.csv').values\n",
        "y_train = np.array([0 if el[0] == -1 else el[0] for el in pd.read_csv('y_train_Final.csv', names=['class']).values.tolist()])\n",
        "X_test = pd.read_csv('X_test_Final.csv').values\n",
        "y_test = np.array([0 if el[0] == -1 else el[0] for el in pd.read_csv('y_test_Final.csv', names=['class']).values.tolist()])"
      ]
    },
    {
      "cell_type": "code",
      "execution_count": 68,
      "id": "eN1Q1_wTpbVl",
      "metadata": {
        "colab": {
          "base_uri": "https://localhost:8080/"
        },
        "id": "eN1Q1_wTpbVl",
        "outputId": "232f44d7-a8b6-4811-b6d0-5ab61acec189"
      },
      "outputs": [
        {
          "name": "stdout",
          "output_type": "stream",
          "text": [
            "Net_3_layer(\n",
            "  (fc1): Linear(in_features=20, out_features=32, bias=True)\n",
            "  (fc2): Linear(in_features=32, out_features=32, bias=True)\n",
            "  (fc3): Linear(in_features=32, out_features=32, bias=True)\n",
            "  (fc4): Linear(in_features=32, out_features=32, bias=True)\n",
            "  (fc5): Linear(in_features=32, out_features=2, bias=True)\n",
            ")\n"
          ]
        }
      ],
      "source": [
        "#Архитектура нейронной сети\n",
        "class Net_3_layer(nn.Module):\n",
        "    def __init__(self):\n",
        "        super().__init__()  #вх. #вых.\n",
        "        self.fc1 = nn.Linear(20, 32)\n",
        "        self.fc2 = nn.Linear(32, 32)\n",
        "        self.fc3 = nn.Linear(32, 32)\n",
        "        self.fc4 = nn.Linear(32, 32)\n",
        "        self.fc5 = nn.Linear(32, 2)\n",
        "\n",
        "    def forward(self, x):\n",
        "        x = F.relu(self.fc1(x))\n",
        "        x = F.relu(self.fc2(x))\n",
        "        x = F.relu(self.fc3(x))\n",
        "        x = F.relu(self.fc4(x))\n",
        "        x = self.fc5(x)\n",
        "        return F.log_softmax(x, dim=1)\n",
        "\n",
        "net_3_layer = Net_3_layer().to(device)\n",
        "print(net_3_layer)"
      ]
    },
    {
      "cell_type": "code",
      "execution_count": 69,
      "id": "1ydS2zE_pbVm",
      "metadata": {
        "id": "1ydS2zE_pbVm"
      },
      "outputs": [],
      "source": [
        "#Задаем оптимизатор и функцию потерь\n",
        "\n",
        "\n",
        "optimizer_3_layer = optim.SGD(net_3_layer.parameters(), lr=0.01) # регулирует изменяемые параметры нашей модели, а именно веса, чтобы они постепенно, с течением времени, приходили в соответствие нашим данным\n",
        "# lr - скорость обучения определяет величину изменений, которую оптимайзер может внести за один раз\n",
        "# Каждый полный проход по данным называется эпохой (epoch)"
      ]
    },
    {
      "cell_type": "code",
      "execution_count": 70,
      "id": "v_cfwsHLpbVm",
      "metadata": {
        "id": "v_cfwsHLpbVm"
      },
      "outputs": [],
      "source": [
        "#преобразование в тензоры\n",
        "inputs_train = torch.tensor(X_train).to(device)\n",
        "targets_train = torch.tensor(y_train).int().to(device)\n",
        "\n",
        "inputs_test = torch.tensor(X_test).to(device)\n",
        "targets_test = torch.tensor(y_test).int().to(device)\n",
        "\n",
        "train = data_utils.TensorDataset(inputs_train, targets_train)\n",
        "test = data_utils.TensorDataset(inputs_test, targets_test)\n",
        "\n",
        "trainset = torch.utils.data.DataLoader(train, shuffle=True)\n",
        "testset = torch.utils.data.DataLoader(test, shuffle=False)"
      ]
    },
    {
      "cell_type": "code",
      "execution_count": 71,
      "id": "9JxA2IF8pbVn",
      "metadata": {
        "colab": {
          "background_save": true,
          "base_uri": "https://localhost:8080/"
        },
        "id": "9JxA2IF8pbVn",
        "outputId": "6f8b3561-7a83-4201-cccb-a1132c8cd7e9"
      },
      "outputs": [
        {
          "name": "stdout",
          "output_type": "stream",
          "text": [
            "tensor(0.5268, grad_fn=<NllLossBackward0>)\n",
            "tensor(0.5234, grad_fn=<NllLossBackward0>)\n",
            "tensor(0.8228, grad_fn=<NllLossBackward0>)\n",
            "tensor(0.7991, grad_fn=<NllLossBackward0>)\n",
            "tensor(1.3654, grad_fn=<NllLossBackward0>)\n",
            "tensor(0.5322, grad_fn=<NllLossBackward0>)\n",
            "tensor(0.4255, grad_fn=<NllLossBackward0>)\n",
            "tensor(0.6885, grad_fn=<NllLossBackward0>)\n",
            "tensor(0.5021, grad_fn=<NllLossBackward0>)\n",
            "tensor(0.4594, grad_fn=<NllLossBackward0>)\n",
            "tensor(0.4984, grad_fn=<NllLossBackward0>)\n",
            "tensor(0.6432, grad_fn=<NllLossBackward0>)\n",
            "tensor(0.2391, grad_fn=<NllLossBackward0>)\n",
            "tensor(0.5887, grad_fn=<NllLossBackward0>)\n",
            "tensor(0.3941, grad_fn=<NllLossBackward0>)\n"
          ]
        }
      ],
      "source": [
        "for epoch in range(15): # 15 полных прохода по нашим данным\n",
        "    for data in trainset:  # `data` это батч наших данных\n",
        "        X, y = data  # X это батч свойств, y это батч целевых переменных.\n",
        "        net_3_layer.zero_grad()  # устанавливаем значение градиента в 0 перед вычислением функции потерь. Вам следует делать это на каждом шаге.\n",
        "        output = net_3_layer(X.float())  # передаем батч\n",
        "        #loss = F.nll_loss(output, y.long())  # вычисляем функцию потерь\n",
        "        loss = F.cross_entropy(output, y.long())\n",
        "        loss.backward()  # передаем это значение назад по сети\n",
        "        optimizer_3_layer.step()  # пытаемся оптимизировать значение весов исходя из потерь и градиента\n",
        "    print(loss)  # выводим на экран значение функции потерь. Мы надеемся, что оно убывает!"
      ]
    },
    {
      "cell_type": "code",
      "execution_count": 72,
      "id": "FdJtDm45pbVo",
      "metadata": {
        "colab": {
          "background_save": true
        },
        "id": "FdJtDm45pbVo"
      },
      "outputs": [],
      "source": [
        "#Предсказание меток классов для примеров из тестового множества\n",
        "ams = []\n",
        "with torch.no_grad():\n",
        "    for data in testset:\n",
        "        X, y = data\n",
        "        output = net_3_layer(X.float())\n",
        "        for idx, i in enumerate(output):\n",
        "            ams.append(torch.argmax(i).item())"
      ]
    },
    {
      "cell_type": "code",
      "execution_count": 73,
      "id": "9o_nO-T5pbVp",
      "metadata": {
        "colab": {
          "background_save": true
        },
        "id": "9o_nO-T5pbVp",
        "outputId": "a0a4242b-17bc-4f0b-9bf6-c6e041354af3"
      },
      "outputs": [
        {
          "name": "stdout",
          "output_type": "stream",
          "text": [
            "torch.Size([1, 2])\n",
            "50\n",
            "              precision    recall  f1-score   support\n",
            "\n",
            "    negative       0.67      0.78      0.72        23\n",
            "    positive       0.78      0.67      0.72        27\n",
            "\n",
            "    accuracy                           0.72        50\n",
            "   macro avg       0.72      0.72      0.72        50\n",
            "weighted avg       0.73      0.72      0.72        50\n",
            "\n"
          ]
        }
      ],
      "source": [
        "#Оценка качества классификации\n",
        "print(output.size())\n",
        "print(len(ams))\n",
        "\n",
        "target_names = ['negative', 'positive']\n",
        "print(classification_report(y_test, ams, target_names=target_names))\n",
        "# print(f'f1 = {f1_score(y_test, ams, average='weighted', labels = [0, 1])}')"
      ]
    },
    {
      "cell_type": "markdown",
      "id": "Sz1ERkCEpetp",
      "metadata": {
        "id": "Sz1ERkCEpetp"
      },
      "source": [
        "## Сеть c 3 скрытыми слоями, одинаковые слои, lr=0.001"
      ]
    },
    {
      "cell_type": "code",
      "execution_count": 74,
      "id": "v90LdR77petp",
      "metadata": {
        "colab": {
          "background_save": true
        },
        "id": "v90LdR77petp"
      },
      "outputs": [],
      "source": [
        "X_train = pd.read_csv('X_train_Final.csv').values\n",
        "y_train = np.array([0 if el[0] == -1 else el[0] for el in pd.read_csv('y_train_Final.csv', names=['class']).values.tolist()])\n",
        "X_test = pd.read_csv('X_test_Final.csv').values\n",
        "y_test = np.array([0 if el[0] == -1 else el[0] for el in pd.read_csv('y_test_Final.csv', names=['class']).values.tolist()])"
      ]
    },
    {
      "cell_type": "code",
      "execution_count": 75,
      "id": "qiOqbV8rpetq",
      "metadata": {
        "colab": {
          "background_save": true
        },
        "id": "qiOqbV8rpetq",
        "outputId": "fdaebe80-617f-4213-926b-aab55520a62b"
      },
      "outputs": [
        {
          "name": "stdout",
          "output_type": "stream",
          "text": [
            "Net_3_layer(\n",
            "  (fc1): Linear(in_features=20, out_features=32, bias=True)\n",
            "  (fc2): Linear(in_features=32, out_features=32, bias=True)\n",
            "  (fc3): Linear(in_features=32, out_features=32, bias=True)\n",
            "  (fc4): Linear(in_features=32, out_features=32, bias=True)\n",
            "  (fc5): Linear(in_features=32, out_features=2, bias=True)\n",
            ")\n"
          ]
        }
      ],
      "source": [
        "#Архитектура нейронной сети\n",
        "class Net_3_layer(nn.Module):\n",
        "    def __init__(self):\n",
        "        super().__init__()  #вх. #вых.\n",
        "        self.fc1 = nn.Linear(20, 32)\n",
        "        self.fc2 = nn.Linear(32, 32)\n",
        "        self.fc3 = nn.Linear(32, 32)\n",
        "        self.fc4 = nn.Linear(32, 32)\n",
        "        self.fc5 = nn.Linear(32, 2)\n",
        "\n",
        "    def forward(self, x):\n",
        "        x = F.relu(self.fc1(x))\n",
        "        x = F.relu(self.fc2(x))\n",
        "        x = F.relu(self.fc3(x))\n",
        "        x = F.relu(self.fc4(x))\n",
        "        x = self.fc5(x)\n",
        "        return F.log_softmax(x, dim=1)\n",
        "\n",
        "net_3_layer = Net_3_layer().to(device)\n",
        "print(net_3_layer)"
      ]
    },
    {
      "cell_type": "code",
      "execution_count": 76,
      "id": "SId0bRTypetq",
      "metadata": {
        "colab": {
          "background_save": true
        },
        "id": "SId0bRTypetq"
      },
      "outputs": [],
      "source": [
        "#Задаем оптимизатор и функцию потерь\n",
        "\n",
        "\n",
        "optimizer_3_layer = optim.SGD(net_3_layer.parameters(), lr=0.001) # регулирует изменяемые параметры нашей модели, а именно веса, чтобы они постепенно, с течением времени, приходили в соответствие нашим данным\n",
        "# lr - скорость обучения определяет величину изменений, которую оптимайзер может внести за один раз\n",
        "# Каждый полный проход по данным называется эпохой (epoch)"
      ]
    },
    {
      "cell_type": "code",
      "execution_count": 77,
      "id": "0Bie84E7petr",
      "metadata": {
        "colab": {
          "background_save": true
        },
        "id": "0Bie84E7petr"
      },
      "outputs": [],
      "source": [
        "#преобразование в тензоры\n",
        "inputs_train = torch.tensor(X_train).to(device)\n",
        "targets_train = torch.tensor(y_train).int().to(device)\n",
        "\n",
        "inputs_test = torch.tensor(X_test).to(device)\n",
        "targets_test = torch.tensor(y_test).int().to(device)\n",
        "\n",
        "train = data_utils.TensorDataset(inputs_train, targets_train)\n",
        "test = data_utils.TensorDataset(inputs_test, targets_test)\n",
        "\n",
        "trainset = torch.utils.data.DataLoader(train, shuffle=True)\n",
        "testset = torch.utils.data.DataLoader(test, shuffle=False)"
      ]
    },
    {
      "cell_type": "code",
      "execution_count": 78,
      "id": "BJHXiM6Vpetr",
      "metadata": {
        "colab": {
          "background_save": true
        },
        "id": "BJHXiM6Vpetr",
        "outputId": "246bcb72-0ed6-4a09-ea44-1eb7c4c69d22"
      },
      "outputs": [
        {
          "name": "stdout",
          "output_type": "stream",
          "text": [
            "tensor(0.5197, grad_fn=<NllLossBackward0>)\n",
            "tensor(0.8682, grad_fn=<NllLossBackward0>)\n",
            "tensor(0.3669, grad_fn=<NllLossBackward0>)\n",
            "tensor(0.6058, grad_fn=<NllLossBackward0>)\n",
            "tensor(0.7846, grad_fn=<NllLossBackward0>)\n",
            "tensor(0.9395, grad_fn=<NllLossBackward0>)\n",
            "tensor(0.7246, grad_fn=<NllLossBackward0>)\n",
            "tensor(0.7579, grad_fn=<NllLossBackward0>)\n",
            "tensor(0.5767, grad_fn=<NllLossBackward0>)\n",
            "tensor(0.1586, grad_fn=<NllLossBackward0>)\n",
            "tensor(0.6291, grad_fn=<NllLossBackward0>)\n",
            "tensor(0.7444, grad_fn=<NllLossBackward0>)\n",
            "tensor(1.3422, grad_fn=<NllLossBackward0>)\n",
            "tensor(0.5442, grad_fn=<NllLossBackward0>)\n",
            "tensor(0.4959, grad_fn=<NllLossBackward0>)\n"
          ]
        }
      ],
      "source": [
        "for epoch in range(15): # 15 полных прохода по нашим данным\n",
        "    for data in trainset:  # `data` это батч наших данных\n",
        "        X, y = data  # X это батч свойств, y это батч целевых переменных.\n",
        "        net_3_layer.zero_grad()  # устанавливаем значение градиента в 0 перед вычислением функции потерь. Вам следует делать это на каждом шаге.\n",
        "        output = net_3_layer(X.float())  # передаем батч\n",
        "        #loss = F.nll_loss(output, y.long())  # вычисляем функцию потерь\n",
        "        loss = F.cross_entropy(output, y.long())\n",
        "        loss.backward()  # передаем это значение назад по сети\n",
        "        optimizer_3_layer.step()  # пытаемся оптимизировать значение весов исходя из потерь и градиента\n",
        "    print(loss)  # выводим на экран значение функции потерь. Мы надеемся, что оно убывает!"
      ]
    },
    {
      "cell_type": "code",
      "execution_count": 79,
      "id": "e6Kf10y1pets",
      "metadata": {
        "colab": {
          "background_save": true
        },
        "id": "e6Kf10y1pets"
      },
      "outputs": [],
      "source": [
        "#Предсказание меток классов для примеров из тестового множества\n",
        "ams = []\n",
        "with torch.no_grad():\n",
        "    for data in testset:\n",
        "        X, y = data\n",
        "        output = net_3_layer(X.float())\n",
        "        for idx, i in enumerate(output):\n",
        "            ams.append(torch.argmax(i).item())"
      ]
    },
    {
      "cell_type": "code",
      "execution_count": 80,
      "id": "OrDO9wzqpets",
      "metadata": {
        "colab": {
          "background_save": true
        },
        "id": "OrDO9wzqpets",
        "outputId": "b1bcd3b4-f412-4108-d3b7-e662f7f69387"
      },
      "outputs": [
        {
          "name": "stdout",
          "output_type": "stream",
          "text": [
            "torch.Size([1, 2])\n",
            "50\n",
            "              precision    recall  f1-score   support\n",
            "\n",
            "    negative       0.75      0.65      0.70        23\n",
            "    positive       0.73      0.81      0.77        27\n",
            "\n",
            "    accuracy                           0.74        50\n",
            "   macro avg       0.74      0.73      0.73        50\n",
            "weighted avg       0.74      0.74      0.74        50\n",
            "\n"
          ]
        }
      ],
      "source": [
        "#Оценка качества классификации\n",
        "print(output.size())\n",
        "print(len(ams))\n",
        "\n",
        "target_names = ['negative', 'positive']\n",
        "print(classification_report(y_test, ams, target_names=target_names))\n",
        "# print(f'f1 = {f1_score(y_test, ams, average='weighted', labels = [0, 1])}')"
      ]
    },
    {
      "cell_type": "markdown",
      "id": "kYbqQt_zpgjL",
      "metadata": {
        "id": "kYbqQt_zpgjL"
      },
      "source": [
        "## Сеть c 3 скрытыми слоями, одинаковые слои, lr=0.0001"
      ]
    },
    {
      "cell_type": "code",
      "execution_count": 81,
      "id": "bhvBG5d2pgjM",
      "metadata": {
        "colab": {
          "background_save": true
        },
        "id": "bhvBG5d2pgjM"
      },
      "outputs": [],
      "source": [
        "X_train = pd.read_csv('X_train_Final.csv').values\n",
        "y_train = np.array([0 if el[0] == -1 else el[0] for el in pd.read_csv('y_train_Final.csv', names=['class']).values.tolist()])\n",
        "X_test = pd.read_csv('X_test_Final.csv').values\n",
        "y_test = np.array([0 if el[0] == -1 else el[0] for el in pd.read_csv('y_test_Final.csv', names=['class']).values.tolist()])"
      ]
    },
    {
      "cell_type": "code",
      "execution_count": 82,
      "id": "NdLOkLVBpgjN",
      "metadata": {
        "colab": {
          "background_save": true
        },
        "id": "NdLOkLVBpgjN",
        "outputId": "ef8e0a98-c413-43f9-8330-1e5d3f773de7"
      },
      "outputs": [
        {
          "name": "stdout",
          "output_type": "stream",
          "text": [
            "Net_3_layer(\n",
            "  (fc1): Linear(in_features=20, out_features=32, bias=True)\n",
            "  (fc2): Linear(in_features=32, out_features=32, bias=True)\n",
            "  (fc3): Linear(in_features=32, out_features=32, bias=True)\n",
            "  (fc4): Linear(in_features=32, out_features=32, bias=True)\n",
            "  (fc5): Linear(in_features=32, out_features=2, bias=True)\n",
            ")\n"
          ]
        }
      ],
      "source": [
        "#Архитектура нейронной сети\n",
        "class Net_3_layer(nn.Module):\n",
        "    def __init__(self):\n",
        "        super().__init__()  #вх. #вых.\n",
        "        self.fc1 = nn.Linear(20, 32)\n",
        "        self.fc2 = nn.Linear(32, 32)\n",
        "        self.fc3 = nn.Linear(32, 32)\n",
        "        self.fc4 = nn.Linear(32, 32)\n",
        "        self.fc5 = nn.Linear(32, 2)\n",
        "\n",
        "    def forward(self, x):\n",
        "        x = F.relu(self.fc1(x))\n",
        "        x = F.relu(self.fc2(x))\n",
        "        x = F.relu(self.fc3(x))\n",
        "        x = F.relu(self.fc4(x))\n",
        "        x = self.fc5(x)\n",
        "        return F.log_softmax(x, dim=1)\n",
        "\n",
        "net_3_layer = Net_3_layer().to(device)\n",
        "print(net_3_layer)"
      ]
    },
    {
      "cell_type": "code",
      "execution_count": 83,
      "id": "hQsQMtpTpgjO",
      "metadata": {
        "colab": {
          "background_save": true
        },
        "id": "hQsQMtpTpgjO"
      },
      "outputs": [],
      "source": [
        "#Задаем оптимизатор и функцию потерь\n",
        "\n",
        "\n",
        "optimizer_3_layer = optim.SGD(net_3_layer.parameters(), lr=0.0001) # регулирует изменяемые параметры нашей модели, а именно веса, чтобы они постепенно, с течением времени, приходили в соответствие нашим данным\n",
        "# lr - скорость обучения определяет величину изменений, которую оптимайзер может внести за один раз\n",
        "# Каждый полный проход по данным называется эпохой (epoch)"
      ]
    },
    {
      "cell_type": "code",
      "execution_count": 84,
      "id": "iy4bllfqpgjO",
      "metadata": {
        "colab": {
          "background_save": true
        },
        "id": "iy4bllfqpgjO"
      },
      "outputs": [],
      "source": [
        "#преобразование в тензоры\n",
        "inputs_train = torch.tensor(X_train).to(device)\n",
        "targets_train = torch.tensor(y_train).int().to(device)\n",
        "\n",
        "inputs_test = torch.tensor(X_test).to(device)\n",
        "targets_test = torch.tensor(y_test).int().to(device)\n",
        "\n",
        "train = data_utils.TensorDataset(inputs_train, targets_train)\n",
        "test = data_utils.TensorDataset(inputs_test, targets_test)\n",
        "\n",
        "trainset = torch.utils.data.DataLoader(train, shuffle=True)\n",
        "testset = torch.utils.data.DataLoader(test, shuffle=False)"
      ]
    },
    {
      "cell_type": "code",
      "execution_count": 85,
      "id": "I9Uv5FejpgjP",
      "metadata": {
        "colab": {
          "background_save": true,
          "base_uri": "https://localhost:8080/"
        },
        "id": "I9Uv5FejpgjP",
        "outputId": "519f053c-2704-4afe-8d7f-d4244b6a25f0"
      },
      "outputs": [
        {
          "name": "stdout",
          "output_type": "stream",
          "text": [
            "tensor(0.6366, grad_fn=<NllLossBackward0>)\n",
            "tensor(0.7517, grad_fn=<NllLossBackward0>)\n",
            "tensor(0.7509, grad_fn=<NllLossBackward0>)\n",
            "tensor(0.7229, grad_fn=<NllLossBackward0>)\n",
            "tensor(0.6374, grad_fn=<NllLossBackward0>)\n",
            "tensor(0.7308, grad_fn=<NllLossBackward0>)\n",
            "tensor(0.8103, grad_fn=<NllLossBackward0>)\n",
            "tensor(0.5828, grad_fn=<NllLossBackward0>)\n",
            "tensor(0.6085, grad_fn=<NllLossBackward0>)\n",
            "tensor(0.8786, grad_fn=<NllLossBackward0>)\n",
            "tensor(0.8668, grad_fn=<NllLossBackward0>)\n",
            "tensor(0.8885, grad_fn=<NllLossBackward0>)\n",
            "tensor(0.7751, grad_fn=<NllLossBackward0>)\n",
            "tensor(0.4826, grad_fn=<NllLossBackward0>)\n",
            "tensor(0.6444, grad_fn=<NllLossBackward0>)\n"
          ]
        }
      ],
      "source": [
        "for epoch in range(15): # 15 полных прохода по нашим данным\n",
        "    for data in trainset:  # `data` это батч наших данных\n",
        "        X, y = data  # X это батч свойств, y это батч целевых переменных.\n",
        "        net_3_layer.zero_grad()  # устанавливаем значение градиента в 0 перед вычислением функции потерь. Вам следует делать это на каждом шаге.\n",
        "        output = net_3_layer(X.float())  # передаем батч\n",
        "        #loss = F.nll_loss(output, y.long())  # вычисляем функцию потерь\n",
        "        loss = F.cross_entropy(output, y.long())\n",
        "        loss.backward()  # передаем это значение назад по сети\n",
        "        optimizer_3_layer.step()  # пытаемся оптимизировать значение весов исходя из потерь и градиента\n",
        "    print(loss)  # выводим на экран значение функции потерь. Мы надеемся, что оно убывает!"
      ]
    },
    {
      "cell_type": "code",
      "execution_count": 86,
      "id": "BePjKVt1pgjQ",
      "metadata": {
        "colab": {
          "background_save": true
        },
        "id": "BePjKVt1pgjQ"
      },
      "outputs": [],
      "source": [
        "#Предсказание меток классов для примеров из тестового множества\n",
        "ams = []\n",
        "with torch.no_grad():\n",
        "    for data in testset:\n",
        "        X, y = data\n",
        "        output = net_3_layer(X.float())\n",
        "        for idx, i in enumerate(output):\n",
        "            ams.append(torch.argmax(i).item())"
      ]
    },
    {
      "cell_type": "code",
      "execution_count": 87,
      "id": "NtIllPkYpgjR",
      "metadata": {
        "colab": {
          "background_save": true
        },
        "id": "NtIllPkYpgjR",
        "outputId": "1468dba6-1d1f-4180-f12a-60c3b60f378d"
      },
      "outputs": [
        {
          "name": "stdout",
          "output_type": "stream",
          "text": [
            "torch.Size([1, 2])\n",
            "50\n",
            "              precision    recall  f1-score   support\n",
            "\n",
            "    negative       0.71      0.65      0.68        23\n",
            "    positive       0.72      0.78      0.75        27\n",
            "\n",
            "    accuracy                           0.72        50\n",
            "   macro avg       0.72      0.71      0.72        50\n",
            "weighted avg       0.72      0.72      0.72        50\n",
            "\n"
          ]
        }
      ],
      "source": [
        "#Оценка качества классификации\n",
        "print(output.size())\n",
        "print(len(ams))\n",
        "\n",
        "target_names = ['negative', 'positive']\n",
        "print(classification_report(y_test, ams, target_names=target_names))\n",
        "# print(f'f1 = {f1_score(y_test, ams, average='weighted', labels = [0, 1])}')"
      ]
    },
    {
      "cell_type": "markdown",
      "id": "B5C1IynVf7Ry",
      "metadata": {
        "id": "B5C1IynVf7Ry"
      },
      "source": [
        "## Сеть c 4 скрытыми слоями, разные слои, lr=0.01"
      ]
    },
    {
      "cell_type": "code",
      "execution_count": 88,
      "id": "Jz_zI5m1f7R5",
      "metadata": {
        "colab": {
          "background_save": true
        },
        "id": "Jz_zI5m1f7R5"
      },
      "outputs": [],
      "source": [
        "X_train = pd.read_csv('X_train_Final.csv').values\n",
        "y_train = np.array([0 if el[0] == -1 else el[0] for el in pd.read_csv('y_train_Final.csv', names=['class']).values.tolist()])\n",
        "X_test = pd.read_csv('X_test_Final.csv').values\n",
        "y_test = np.array([0 if el[0] == -1 else el[0] for el in pd.read_csv('y_test_Final.csv', names=['class']).values.tolist()])"
      ]
    },
    {
      "cell_type": "code",
      "execution_count": 89,
      "id": "_SR7GpqVf7R5",
      "metadata": {
        "colab": {
          "background_save": true
        },
        "id": "_SR7GpqVf7R5",
        "outputId": "283149ef-aba5-4830-fe7c-5243ff7f0179"
      },
      "outputs": [
        {
          "name": "stdout",
          "output_type": "stream",
          "text": [
            "Net_4_layer(\n",
            "  (fc1): Linear(in_features=20, out_features=64, bias=True)\n",
            "  (fc2): Linear(in_features=64, out_features=32, bias=True)\n",
            "  (fc3): Linear(in_features=32, out_features=16, bias=True)\n",
            "  (fc4): Linear(in_features=16, out_features=8, bias=True)\n",
            "  (fc5): Linear(in_features=8, out_features=4, bias=True)\n",
            "  (fc6): Linear(in_features=4, out_features=2, bias=True)\n",
            ")\n"
          ]
        }
      ],
      "source": [
        "#Архитектура нейронной сети\n",
        "class Net_4_layer(nn.Module):\n",
        "    def __init__(self):\n",
        "        super().__init__()  #вх. #вых.\n",
        "        self.fc1 = nn.Linear(20, 64)\n",
        "        self.fc2 = nn.Linear(64, 32)\n",
        "        self.fc3 = nn.Linear(32, 16)\n",
        "        self.fc4 = nn.Linear(16, 8)\n",
        "        self.fc5 = nn.Linear(8, 4)\n",
        "        self.fc6 = nn.Linear(4, 2)\n",
        "\n",
        "    def forward(self, x):\n",
        "        x = F.relu(self.fc1(x))\n",
        "        x = F.relu(self.fc2(x))\n",
        "        x = F.relu(self.fc3(x))\n",
        "        x = F.relu(self.fc4(x))\n",
        "        x = F.relu(self.fc5(x))\n",
        "        x = self.fc6(x)\n",
        "        return F.log_softmax(x, dim=1)\n",
        "\n",
        "net_4_layer = Net_4_layer().to(device)\n",
        "print(net_4_layer)"
      ]
    },
    {
      "cell_type": "code",
      "execution_count": 90,
      "id": "J7E8KLLEf7R5",
      "metadata": {
        "colab": {
          "background_save": true
        },
        "id": "J7E8KLLEf7R5"
      },
      "outputs": [],
      "source": [
        "#Задаем оптимизатор и функцию потерь\n",
        "\n",
        "\n",
        "optimizer_4_layer = optim.SGD(net_4_layer.parameters(), lr=0.01) # регулирует изменяемые параметры нашей модели, а именно веса, чтобы они постепенно, с течением времени, приходили в соответствие нашим данным\n",
        "# lr - скорость обучения определяет величину изменений, которую оптимайзер может внести за один раз\n",
        "# Каждый полный проход по данным называется эпохой (epoch)"
      ]
    },
    {
      "cell_type": "code",
      "execution_count": 91,
      "id": "vfldUOrXf7R5",
      "metadata": {
        "colab": {
          "background_save": true
        },
        "id": "vfldUOrXf7R5"
      },
      "outputs": [],
      "source": [
        "#преобразование в тензоры\n",
        "inputs_train = torch.tensor(X_train).to(device)\n",
        "targets_train = torch.tensor(y_train).int().to(device)\n",
        "\n",
        "inputs_test = torch.tensor(X_test).to(device)\n",
        "targets_test = torch.tensor(y_test).int().to(device)\n",
        "\n",
        "train = data_utils.TensorDataset(inputs_train, targets_train)\n",
        "test = data_utils.TensorDataset(inputs_test, targets_test)\n",
        "\n",
        "trainset = torch.utils.data.DataLoader(train, shuffle=True)\n",
        "testset = torch.utils.data.DataLoader(test, shuffle=False)"
      ]
    },
    {
      "cell_type": "code",
      "execution_count": 92,
      "id": "FodcogKyf7R5",
      "metadata": {
        "colab": {
          "base_uri": "https://localhost:8080/"
        },
        "id": "FodcogKyf7R5",
        "outputId": "deaa2de9-7859-4a16-eb90-928f24eb0a46"
      },
      "outputs": [
        {
          "name": "stdout",
          "output_type": "stream",
          "text": [
            "tensor(0.5507, grad_fn=<NllLossBackward0>)\n",
            "tensor(0.7229, grad_fn=<NllLossBackward0>)\n",
            "tensor(0.9304, grad_fn=<NllLossBackward0>)\n",
            "tensor(1.0359, grad_fn=<NllLossBackward0>)\n",
            "tensor(1.2731, grad_fn=<NllLossBackward0>)\n",
            "tensor(0.5189, grad_fn=<NllLossBackward0>)\n",
            "tensor(0.2527, grad_fn=<NllLossBackward0>)\n",
            "tensor(0.4889, grad_fn=<NllLossBackward0>)\n",
            "tensor(0.5770, grad_fn=<NllLossBackward0>)\n",
            "tensor(0.9518, grad_fn=<NllLossBackward0>)\n",
            "tensor(0.8130, grad_fn=<NllLossBackward0>)\n",
            "tensor(0.4404, grad_fn=<NllLossBackward0>)\n",
            "tensor(0.8898, grad_fn=<NllLossBackward0>)\n",
            "tensor(0.6453, grad_fn=<NllLossBackward0>)\n",
            "tensor(0.9046, grad_fn=<NllLossBackward0>)\n"
          ]
        }
      ],
      "source": [
        "for epoch in range(15): # 15 полных прохода по нашим данным\n",
        "    for data in trainset:  # `data` это батч наших данных\n",
        "        X, y = data  # X это батч свойств, y это батч целевых переменных.\n",
        "        net_4_layer.zero_grad()  # устанавливаем значение градиента в 0 перед вычислением функции потерь. Вам следует делать это на каждом шаге.\n",
        "        output = net_4_layer(X.float())  # передаем батч\n",
        "        #loss = F.nll_loss(output, y.long())  # вычисляем функцию потерь\n",
        "        loss = F.cross_entropy(output, y.long())\n",
        "        loss.backward()  # передаем это значение назад по сети\n",
        "        optimizer_4_layer.step()  # пытаемся оптимизировать значение весов исходя из потерь и градиента\n",
        "    print(loss)  # выводим на экран значение функции потерь. Мы надеемся, что оно убывает!"
      ]
    },
    {
      "cell_type": "code",
      "execution_count": 93,
      "id": "kBybStokf7R6",
      "metadata": {
        "id": "kBybStokf7R6"
      },
      "outputs": [],
      "source": [
        "#Предсказание меток классов для примеров из тестового множества\n",
        "ams = []\n",
        "with torch.no_grad():\n",
        "    for data in testset:\n",
        "        X, y = data\n",
        "        output = net_4_layer(X.float())\n",
        "        for idx, i in enumerate(output):\n",
        "            ams.append(torch.argmax(i).item())"
      ]
    },
    {
      "cell_type": "code",
      "execution_count": 94,
      "id": "tI6DDlIxf7R6",
      "metadata": {
        "id": "tI6DDlIxf7R6"
      },
      "outputs": [
        {
          "name": "stdout",
          "output_type": "stream",
          "text": [
            "torch.Size([1, 2])\n",
            "50\n",
            "              precision    recall  f1-score   support\n",
            "\n",
            "    negative       0.66      0.83      0.73        23\n",
            "    positive       0.81      0.63      0.71        27\n",
            "\n",
            "    accuracy                           0.72        50\n",
            "   macro avg       0.73      0.73      0.72        50\n",
            "weighted avg       0.74      0.72      0.72        50\n",
            "\n"
          ]
        }
      ],
      "source": [
        "#Оценка качества классификации\n",
        "print(output.size())\n",
        "print(len(ams))\n",
        "\n",
        "target_names = ['negative', 'positive']\n",
        "print(classification_report(y_test, ams, target_names=target_names))\n",
        "# print(f'f1 = {f1_score(y_test, ams, average='weighted', labels = [0, 1])}')"
      ]
    },
    {
      "cell_type": "markdown",
      "id": "4lTIlOlrqgBH",
      "metadata": {
        "id": "4lTIlOlrqgBH"
      },
      "source": [
        "## Сеть c 4 скрытыми слоями, разные слои, lr=0.001"
      ]
    },
    {
      "cell_type": "code",
      "execution_count": 95,
      "id": "AofIwewkqgBI",
      "metadata": {
        "id": "AofIwewkqgBI"
      },
      "outputs": [],
      "source": [
        "X_train = pd.read_csv('X_train_Final.csv').values\n",
        "y_train = np.array([0 if el[0] == -1 else el[0] for el in pd.read_csv('y_train_Final.csv', names=['class']).values.tolist()])\n",
        "X_test = pd.read_csv('X_test_Final.csv').values\n",
        "y_test = np.array([0 if el[0] == -1 else el[0] for el in pd.read_csv('y_test_Final.csv', names=['class']).values.tolist()])"
      ]
    },
    {
      "cell_type": "code",
      "execution_count": 96,
      "id": "C-Pn86SJqgBI",
      "metadata": {
        "id": "C-Pn86SJqgBI"
      },
      "outputs": [
        {
          "name": "stdout",
          "output_type": "stream",
          "text": [
            "Net_4_layer(\n",
            "  (fc1): Linear(in_features=20, out_features=64, bias=True)\n",
            "  (fc2): Linear(in_features=64, out_features=32, bias=True)\n",
            "  (fc3): Linear(in_features=32, out_features=16, bias=True)\n",
            "  (fc4): Linear(in_features=16, out_features=8, bias=True)\n",
            "  (fc5): Linear(in_features=8, out_features=4, bias=True)\n",
            "  (fc6): Linear(in_features=4, out_features=2, bias=True)\n",
            ")\n"
          ]
        }
      ],
      "source": [
        "#Архитектура нейронной сети\n",
        "class Net_4_layer(nn.Module):\n",
        "    def __init__(self):\n",
        "        super().__init__()  #вх. #вых.\n",
        "        self.fc1 = nn.Linear(20, 64)\n",
        "        self.fc2 = nn.Linear(64, 32)\n",
        "        self.fc3 = nn.Linear(32, 16)\n",
        "        self.fc4 = nn.Linear(16, 8)\n",
        "        self.fc5 = nn.Linear(8, 4)\n",
        "        self.fc6 = nn.Linear(4, 2)\n",
        "\n",
        "    def forward(self, x):\n",
        "        x = F.relu(self.fc1(x))\n",
        "        x = F.relu(self.fc2(x))\n",
        "        x = F.relu(self.fc3(x))\n",
        "        x = F.relu(self.fc4(x))\n",
        "        x = F.relu(self.fc5(x))\n",
        "        x = self.fc6(x)\n",
        "        return F.log_softmax(x, dim=1)\n",
        "\n",
        "net_4_layer = Net_4_layer().to(device)\n",
        "print(net_4_layer)"
      ]
    },
    {
      "cell_type": "code",
      "execution_count": 97,
      "id": "xildySxxqgBJ",
      "metadata": {
        "id": "xildySxxqgBJ"
      },
      "outputs": [],
      "source": [
        "#Задаем оптимизатор и функцию потерь\n",
        "\n",
        "\n",
        "optimizer_4_layer = optim.SGD(net_4_layer.parameters(), lr=0.001) # регулирует изменяемые параметры нашей модели, а именно веса, чтобы они постепенно, с течением времени, приходили в соответствие нашим данным\n",
        "# lr - скорость обучения определяет величину изменений, которую оптимайзер может внести за один раз\n",
        "# Каждый полный проход по данным называется эпохой (epoch)"
      ]
    },
    {
      "cell_type": "code",
      "execution_count": 98,
      "id": "B8IKt8NzqgBK",
      "metadata": {
        "id": "B8IKt8NzqgBK"
      },
      "outputs": [],
      "source": [
        "#преобразование в тензоры\n",
        "inputs_train = torch.tensor(X_train).to(device)\n",
        "targets_train = torch.tensor(y_train).int().to(device)\n",
        "\n",
        "inputs_test = torch.tensor(X_test).to(device)\n",
        "targets_test = torch.tensor(y_test).int().to(device)\n",
        "\n",
        "train = data_utils.TensorDataset(inputs_train, targets_train)\n",
        "test = data_utils.TensorDataset(inputs_test, targets_test)\n",
        "\n",
        "trainset = torch.utils.data.DataLoader(train, shuffle=True)\n",
        "testset = torch.utils.data.DataLoader(test, shuffle=False)"
      ]
    },
    {
      "cell_type": "code",
      "execution_count": 99,
      "id": "k1IClZUPqgBL",
      "metadata": {
        "id": "k1IClZUPqgBL"
      },
      "outputs": [
        {
          "name": "stdout",
          "output_type": "stream",
          "text": [
            "tensor(0.6293, grad_fn=<NllLossBackward0>)\n",
            "tensor(0.6398, grad_fn=<NllLossBackward0>)\n",
            "tensor(0.7693, grad_fn=<NllLossBackward0>)\n",
            "tensor(0.6318, grad_fn=<NllLossBackward0>)\n",
            "tensor(0.4867, grad_fn=<NllLossBackward0>)\n",
            "tensor(0.6915, grad_fn=<NllLossBackward0>)\n",
            "tensor(1.1857, grad_fn=<NllLossBackward0>)\n",
            "tensor(0.6918, grad_fn=<NllLossBackward0>)\n",
            "tensor(0.3776, grad_fn=<NllLossBackward0>)\n",
            "tensor(0.6991, grad_fn=<NllLossBackward0>)\n",
            "tensor(0.2970, grad_fn=<NllLossBackward0>)\n",
            "tensor(0.7666, grad_fn=<NllLossBackward0>)\n",
            "tensor(0.6162, grad_fn=<NllLossBackward0>)\n",
            "tensor(1.0291, grad_fn=<NllLossBackward0>)\n",
            "tensor(0.4862, grad_fn=<NllLossBackward0>)\n"
          ]
        }
      ],
      "source": [
        "for epoch in range(15): # 15 полных прохода по нашим данным\n",
        "    for data in trainset:  # `data` это батч наших данных\n",
        "        X, y = data  # X это батч свойств, y это батч целевых переменных.\n",
        "        net_4_layer.zero_grad()  # устанавливаем значение градиента в 0 перед вычислением функции потерь. Вам следует делать это на каждом шаге.\n",
        "        output = net_4_layer(X.float())  # передаем батч\n",
        "        #loss = F.nll_loss(output, y.long())  # вычисляем функцию потерь\n",
        "        loss = F.cross_entropy(output, y.long())\n",
        "        loss.backward()  # передаем это значение назад по сети\n",
        "        optimizer_4_layer.step()  # пытаемся оптимизировать значение весов исходя из потерь и градиента\n",
        "    print(loss)  # выводим на экран значение функции потерь. Мы надеемся, что оно убывает!"
      ]
    },
    {
      "cell_type": "code",
      "execution_count": 100,
      "id": "Ilvdvj8mqgBL",
      "metadata": {
        "id": "Ilvdvj8mqgBL"
      },
      "outputs": [],
      "source": [
        "#Предсказание меток классов для примеров из тестового множества\n",
        "ams = []\n",
        "with torch.no_grad():\n",
        "    for data in testset:\n",
        "        X, y = data\n",
        "        output = net_4_layer(X.float())\n",
        "        for idx, i in enumerate(output):\n",
        "            ams.append(torch.argmax(i).item())"
      ]
    },
    {
      "cell_type": "code",
      "execution_count": 101,
      "id": "AEzYu9aFqgBP",
      "metadata": {
        "id": "AEzYu9aFqgBP"
      },
      "outputs": [
        {
          "name": "stdout",
          "output_type": "stream",
          "text": [
            "torch.Size([1, 2])\n",
            "50\n",
            "              precision    recall  f1-score   support\n",
            "\n",
            "    negative       0.78      0.61      0.68        23\n",
            "    positive       0.72      0.85      0.78        27\n",
            "\n",
            "    accuracy                           0.74        50\n",
            "   macro avg       0.75      0.73      0.73        50\n",
            "weighted avg       0.75      0.74      0.74        50\n",
            "\n"
          ]
        }
      ],
      "source": [
        "#Оценка качества классификации\n",
        "print(output.size())\n",
        "print(len(ams))\n",
        "\n",
        "target_names = ['negative', 'positive']\n",
        "print(classification_report(y_test, ams, target_names=target_names))\n",
        "# print(f'f1 = {f1_score(y_test, ams, average='weighted', labels = [0, 1])}')"
      ]
    },
    {
      "cell_type": "markdown",
      "id": "aQAyR9guqiLt",
      "metadata": {
        "id": "aQAyR9guqiLt"
      },
      "source": [
        "## Сеть c 4 скрытыми слоями, разные слои, lr=0.0001"
      ]
    },
    {
      "cell_type": "code",
      "execution_count": 102,
      "id": "7PcB1RGyqiLu",
      "metadata": {
        "id": "7PcB1RGyqiLu"
      },
      "outputs": [],
      "source": [
        "X_train = pd.read_csv('X_train_Final.csv').values\n",
        "y_train = np.array([0 if el[0] == -1 else el[0] for el in pd.read_csv('y_train_Final.csv', names=['class']).values.tolist()])\n",
        "X_test = pd.read_csv('X_test_Final.csv').values\n",
        "y_test = np.array([0 if el[0] == -1 else el[0] for el in pd.read_csv('y_test_Final.csv', names=['class']).values.tolist()])"
      ]
    },
    {
      "cell_type": "code",
      "execution_count": 103,
      "id": "lzd870JjqiLu",
      "metadata": {
        "id": "lzd870JjqiLu"
      },
      "outputs": [
        {
          "name": "stdout",
          "output_type": "stream",
          "text": [
            "Net_4_layer(\n",
            "  (fc1): Linear(in_features=20, out_features=64, bias=True)\n",
            "  (fc2): Linear(in_features=64, out_features=32, bias=True)\n",
            "  (fc3): Linear(in_features=32, out_features=16, bias=True)\n",
            "  (fc4): Linear(in_features=16, out_features=8, bias=True)\n",
            "  (fc5): Linear(in_features=8, out_features=4, bias=True)\n",
            "  (fc6): Linear(in_features=4, out_features=2, bias=True)\n",
            ")\n"
          ]
        }
      ],
      "source": [
        "#Архитектура нейронной сети\n",
        "class Net_4_layer(nn.Module):\n",
        "    def __init__(self):\n",
        "        super().__init__()  #вх. #вых.\n",
        "        self.fc1 = nn.Linear(20, 64)\n",
        "        self.fc2 = nn.Linear(64, 32)\n",
        "        self.fc3 = nn.Linear(32, 16)\n",
        "        self.fc4 = nn.Linear(16, 8)\n",
        "        self.fc5 = nn.Linear(8, 4)\n",
        "        self.fc6 = nn.Linear(4, 2)\n",
        "\n",
        "    def forward(self, x):\n",
        "        x = F.relu(self.fc1(x))\n",
        "        x = F.relu(self.fc2(x))\n",
        "        x = F.relu(self.fc3(x))\n",
        "        x = F.relu(self.fc4(x))\n",
        "        x = F.relu(self.fc5(x))\n",
        "        x = self.fc6(x)\n",
        "        return F.log_softmax(x, dim=1)\n",
        "\n",
        "net_4_layer = Net_4_layer().to(device)\n",
        "print(net_4_layer)"
      ]
    },
    {
      "cell_type": "code",
      "execution_count": 104,
      "id": "znCuKf_TqiLu",
      "metadata": {
        "id": "znCuKf_TqiLu"
      },
      "outputs": [],
      "source": [
        "#Задаем оптимизатор и функцию потерь\n",
        "\n",
        "\n",
        "optimizer_4_layer = optim.SGD(net_4_layer.parameters(), lr=0.0001) # регулирует изменяемые параметры нашей модели, а именно веса, чтобы они постепенно, с течением времени, приходили в соответствие нашим данным\n",
        "# lr - скорость обучения определяет величину изменений, которую оптимайзер может внести за один раз\n",
        "# Каждый полный проход по данным называется эпохой (epoch)"
      ]
    },
    {
      "cell_type": "code",
      "execution_count": 105,
      "id": "RsqPleS9qiLu",
      "metadata": {
        "id": "RsqPleS9qiLu"
      },
      "outputs": [],
      "source": [
        "#преобразование в тензоры\n",
        "inputs_train = torch.tensor(X_train).to(device)\n",
        "targets_train = torch.tensor(y_train).int().to(device)\n",
        "\n",
        "inputs_test = torch.tensor(X_test).to(device)\n",
        "targets_test = torch.tensor(y_test).int().to(device)\n",
        "\n",
        "train = data_utils.TensorDataset(inputs_train, targets_train)\n",
        "test = data_utils.TensorDataset(inputs_test, targets_test)\n",
        "\n",
        "trainset = torch.utils.data.DataLoader(train, shuffle=True)\n",
        "testset = torch.utils.data.DataLoader(test, shuffle=False)"
      ]
    },
    {
      "cell_type": "code",
      "execution_count": 106,
      "id": "Ntxoo9l9qiLu",
      "metadata": {
        "id": "Ntxoo9l9qiLu"
      },
      "outputs": [
        {
          "name": "stdout",
          "output_type": "stream",
          "text": [
            "tensor(0.6771, grad_fn=<NllLossBackward0>)\n",
            "tensor(0.6404, grad_fn=<NllLossBackward0>)\n",
            "tensor(0.6306, grad_fn=<NllLossBackward0>)\n",
            "tensor(0.6289, grad_fn=<NllLossBackward0>)\n",
            "tensor(0.6288, grad_fn=<NllLossBackward0>)\n",
            "tensor(0.6271, grad_fn=<NllLossBackward0>)\n",
            "tensor(0.7626, grad_fn=<NllLossBackward0>)\n",
            "tensor(0.6303, grad_fn=<NllLossBackward0>)\n",
            "tensor(0.6303, grad_fn=<NllLossBackward0>)\n",
            "tensor(0.7579, grad_fn=<NllLossBackward0>)\n",
            "tensor(0.7592, grad_fn=<NllLossBackward0>)\n",
            "tensor(0.7623, grad_fn=<NllLossBackward0>)\n",
            "tensor(0.7619, grad_fn=<NllLossBackward0>)\n",
            "tensor(0.6312, grad_fn=<NllLossBackward0>)\n",
            "tensor(0.7659, grad_fn=<NllLossBackward0>)\n"
          ]
        }
      ],
      "source": [
        "for epoch in range(15): # 15 полных прохода по нашим данным\n",
        "    for data in trainset:  # `data` это батч наших данных\n",
        "        X, y = data  # X это батч свойств, y это батч целевых переменных.\n",
        "        net_4_layer.zero_grad()  # устанавливаем значение градиента в 0 перед вычислением функции потерь. Вам следует делать это на каждом шаге.\n",
        "        output = net_4_layer(X.float())  # передаем батч\n",
        "        #loss = F.nll_loss(output, y.long())  # вычисляем функцию потерь\n",
        "        loss = F.cross_entropy(output, y.long())\n",
        "        loss.backward()  # передаем это значение назад по сети\n",
        "        optimizer_4_layer.step()  # пытаемся оптимизировать значение весов исходя из потерь и градиента\n",
        "    print(loss)  # выводим на экран значение функции потерь. Мы надеемся, что оно убывает!"
      ]
    },
    {
      "cell_type": "code",
      "execution_count": 107,
      "id": "LdsBc_DtqiLv",
      "metadata": {
        "id": "LdsBc_DtqiLv"
      },
      "outputs": [],
      "source": [
        "#Предсказание меток классов для примеров из тестового множества\n",
        "ams = []\n",
        "with torch.no_grad():\n",
        "    for data in testset:\n",
        "        X, y = data\n",
        "        output = net_4_layer(X.float())\n",
        "        for idx, i in enumerate(output):\n",
        "            ams.append(torch.argmax(i).item())"
      ]
    },
    {
      "cell_type": "code",
      "execution_count": 108,
      "id": "xpboulgFqiLv",
      "metadata": {
        "id": "xpboulgFqiLv"
      },
      "outputs": [
        {
          "name": "stdout",
          "output_type": "stream",
          "text": [
            "torch.Size([1, 2])\n",
            "50\n",
            "              precision    recall  f1-score   support\n",
            "\n",
            "    negative       0.00      0.00      0.00        23\n",
            "    positive       0.54      1.00      0.70        27\n",
            "\n",
            "    accuracy                           0.54        50\n",
            "   macro avg       0.27      0.50      0.35        50\n",
            "weighted avg       0.29      0.54      0.38        50\n",
            "\n"
          ]
        },
        {
          "name": "stderr",
          "output_type": "stream",
          "text": [
            "/home/max/.local/lib/python3.10/site-packages/sklearn/metrics/_classification.py:1318: UndefinedMetricWarning: Precision and F-score are ill-defined and being set to 0.0 in labels with no predicted samples. Use `zero_division` parameter to control this behavior.\n",
            "  _warn_prf(average, modifier, msg_start, len(result))\n",
            "/home/max/.local/lib/python3.10/site-packages/sklearn/metrics/_classification.py:1318: UndefinedMetricWarning: Precision and F-score are ill-defined and being set to 0.0 in labels with no predicted samples. Use `zero_division` parameter to control this behavior.\n",
            "  _warn_prf(average, modifier, msg_start, len(result))\n",
            "/home/max/.local/lib/python3.10/site-packages/sklearn/metrics/_classification.py:1318: UndefinedMetricWarning: Precision and F-score are ill-defined and being set to 0.0 in labels with no predicted samples. Use `zero_division` parameter to control this behavior.\n",
            "  _warn_prf(average, modifier, msg_start, len(result))\n"
          ]
        }
      ],
      "source": [
        "#Оценка качества классификации\n",
        "print(output.size())\n",
        "print(len(ams))\n",
        "\n",
        "target_names = ['negative', 'positive']\n",
        "print(classification_report(y_test, ams, target_names=target_names))\n",
        "# print(f'f1 = {f1_score(y_test, ams, average='weighted', labels = [0, 1])}')"
      ]
    },
    {
      "cell_type": "markdown",
      "id": "3_jzyxhfqj2V",
      "metadata": {
        "id": "3_jzyxhfqj2V"
      },
      "source": [
        "## Сеть c 4 скрытыми слоями, одинаковые слои, lr=0.01"
      ]
    },
    {
      "cell_type": "code",
      "execution_count": 109,
      "id": "oD2qNi_Nqj2W",
      "metadata": {
        "id": "oD2qNi_Nqj2W"
      },
      "outputs": [],
      "source": [
        "X_train = pd.read_csv('X_train_Final.csv').values\n",
        "y_train = np.array([0 if el[0] == -1 else el[0] for el in pd.read_csv('y_train_Final.csv', names=['class']).values.tolist()])\n",
        "X_test = pd.read_csv('X_test_Final.csv').values\n",
        "y_test = np.array([0 if el[0] == -1 else el[0] for el in pd.read_csv('y_test_Final.csv', names=['class']).values.tolist()])"
      ]
    },
    {
      "cell_type": "code",
      "execution_count": 110,
      "id": "R9uG8gZJqj2X",
      "metadata": {
        "id": "R9uG8gZJqj2X"
      },
      "outputs": [
        {
          "name": "stdout",
          "output_type": "stream",
          "text": [
            "Net_4_layer(\n",
            "  (fc1): Linear(in_features=20, out_features=64, bias=True)\n",
            "  (fc2): Linear(in_features=64, out_features=64, bias=True)\n",
            "  (fc3): Linear(in_features=64, out_features=64, bias=True)\n",
            "  (fc4): Linear(in_features=64, out_features=64, bias=True)\n",
            "  (fc5): Linear(in_features=64, out_features=64, bias=True)\n",
            "  (fc6): Linear(in_features=64, out_features=2, bias=True)\n",
            ")\n"
          ]
        }
      ],
      "source": [
        "#Архитектура нейронной сети\n",
        "class Net_4_layer(nn.Module):\n",
        "    def __init__(self):\n",
        "        super().__init__()  #вх. #вых.\n",
        "        self.fc1 = nn.Linear(20, 64)\n",
        "        self.fc2 = nn.Linear(64, 64)\n",
        "        self.fc3 = nn.Linear(64, 64)\n",
        "        self.fc4 = nn.Linear(64, 64)\n",
        "        self.fc5 = nn.Linear(64, 64)\n",
        "        self.fc6 = nn.Linear(64, 2)\n",
        "\n",
        "    def forward(self, x):\n",
        "        x = F.relu(self.fc1(x))\n",
        "        x = F.relu(self.fc2(x))\n",
        "        x = F.relu(self.fc3(x))\n",
        "        x = F.relu(self.fc4(x))\n",
        "        x = F.relu(self.fc5(x))\n",
        "        x = self.fc6(x)\n",
        "        return F.log_softmax(x, dim=1)\n",
        "\n",
        "net_4_layer = Net_4_layer().to(device)\n",
        "print(net_4_layer)"
      ]
    },
    {
      "cell_type": "code",
      "execution_count": 111,
      "id": "YVYNSeWRqj2X",
      "metadata": {
        "id": "YVYNSeWRqj2X"
      },
      "outputs": [],
      "source": [
        "#Задаем оптимизатор и функцию потерь\n",
        "\n",
        "\n",
        "optimizer_4_layer = optim.SGD(net_4_layer.parameters(), lr=0.01) # регулирует изменяемые параметры нашей модели, а именно веса, чтобы они постепенно, с течением времени, приходили в соответствие нашим данным\n",
        "# lr - скорость обучения определяет величину изменений, которую оптимайзер может внести за один раз\n",
        "# Каждый полный проход по данным называется эпохой (epoch)"
      ]
    },
    {
      "cell_type": "code",
      "execution_count": 112,
      "id": "SH5Dt8nKqj2Y",
      "metadata": {
        "id": "SH5Dt8nKqj2Y"
      },
      "outputs": [],
      "source": [
        "#преобразование в тензоры\n",
        "inputs_train = torch.tensor(X_train).to(device)\n",
        "targets_train = torch.tensor(y_train).int().to(device)\n",
        "\n",
        "inputs_test = torch.tensor(X_test).to(device)\n",
        "targets_test = torch.tensor(y_test).int().to(device)\n",
        "\n",
        "train = data_utils.TensorDataset(inputs_train, targets_train)\n",
        "test = data_utils.TensorDataset(inputs_test, targets_test)\n",
        "\n",
        "trainset = torch.utils.data.DataLoader(train, shuffle=True)\n",
        "testset = torch.utils.data.DataLoader(test, shuffle=False)"
      ]
    },
    {
      "cell_type": "code",
      "execution_count": 113,
      "id": "HpigXQYDqj2Z",
      "metadata": {
        "id": "HpigXQYDqj2Z"
      },
      "outputs": [
        {
          "name": "stdout",
          "output_type": "stream",
          "text": [
            "tensor(0.7644, grad_fn=<NllLossBackward0>)\n",
            "tensor(0.5935, grad_fn=<NllLossBackward0>)\n",
            "tensor(0.7860, grad_fn=<NllLossBackward0>)\n",
            "tensor(0.2950, grad_fn=<NllLossBackward0>)\n",
            "tensor(0.8798, grad_fn=<NllLossBackward0>)\n",
            "tensor(0.6768, grad_fn=<NllLossBackward0>)\n",
            "tensor(0.7973, grad_fn=<NllLossBackward0>)\n",
            "tensor(0.7843, grad_fn=<NllLossBackward0>)\n",
            "tensor(1.1516, grad_fn=<NllLossBackward0>)\n",
            "tensor(1.3142, grad_fn=<NllLossBackward0>)\n",
            "tensor(0.3749, grad_fn=<NllLossBackward0>)\n",
            "tensor(0.3913, grad_fn=<NllLossBackward0>)\n",
            "tensor(0.3416, grad_fn=<NllLossBackward0>)\n",
            "tensor(0.4739, grad_fn=<NllLossBackward0>)\n",
            "tensor(0.8012, grad_fn=<NllLossBackward0>)\n"
          ]
        }
      ],
      "source": [
        "for epoch in range(15): # 15 полных прохода по нашим данным\n",
        "    for data in trainset:  # `data` это батч наших данных\n",
        "        X, y = data  # X это батч свойств, y это батч целевых переменных.\n",
        "        net_4_layer.zero_grad()  # устанавливаем значение градиента в 0 перед вычислением функции потерь. Вам следует делать это на каждом шаге.\n",
        "        output = net_4_layer(X.float())  # передаем батч\n",
        "        #loss = F.nll_loss(output, y.long())  # вычисляем функцию потерь\n",
        "        loss = F.cross_entropy(output, y.long())\n",
        "        loss.backward()  # передаем это значение назад по сети\n",
        "        optimizer_4_layer.step()  # пытаемся оптимизировать значение весов исходя из потерь и градиента\n",
        "    print(loss)  # выводим на экран значение функции потерь. Мы надеемся, что оно убывает!"
      ]
    },
    {
      "cell_type": "code",
      "execution_count": 114,
      "id": "GpW9LDVjqj2a",
      "metadata": {
        "id": "GpW9LDVjqj2a"
      },
      "outputs": [],
      "source": [
        "#Предсказание меток классов для примеров из тестового множества\n",
        "ams = []\n",
        "with torch.no_grad():\n",
        "    for data in testset:\n",
        "        X, y = data\n",
        "        output = net_4_layer(X.float())\n",
        "        for idx, i in enumerate(output):\n",
        "            ams.append(torch.argmax(i).item())"
      ]
    },
    {
      "cell_type": "code",
      "execution_count": 115,
      "id": "l-b0GqMLqj2a",
      "metadata": {
        "id": "l-b0GqMLqj2a"
      },
      "outputs": [
        {
          "name": "stdout",
          "output_type": "stream",
          "text": [
            "torch.Size([1, 2])\n",
            "50\n",
            "              precision    recall  f1-score   support\n",
            "\n",
            "    negative       0.81      0.74      0.77        23\n",
            "    positive       0.79      0.85      0.82        27\n",
            "\n",
            "    accuracy                           0.80        50\n",
            "   macro avg       0.80      0.80      0.80        50\n",
            "weighted avg       0.80      0.80      0.80        50\n",
            "\n"
          ]
        }
      ],
      "source": [
        "#Оценка качества классификации\n",
        "print(output.size())\n",
        "print(len(ams))\n",
        "\n",
        "target_names = ['negative', 'positive']\n",
        "print(classification_report(y_test, ams, target_names=target_names))\n",
        "# print(f'f1 = {f1_score(y_test, ams, average='weighted', labels = [0, 1])}')"
      ]
    },
    {
      "cell_type": "markdown",
      "id": "Ui514my2qnHO",
      "metadata": {
        "id": "Ui514my2qnHO"
      },
      "source": [
        "## Сеть c 4 скрытыми слоями, одинаковые слои, lr=0.001"
      ]
    },
    {
      "cell_type": "code",
      "execution_count": 116,
      "id": "iqdE6WxvqnHP",
      "metadata": {
        "id": "iqdE6WxvqnHP"
      },
      "outputs": [],
      "source": [
        "X_train = pd.read_csv('X_train_Final.csv').values\n",
        "y_train = np.array([0 if el[0] == -1 else el[0] for el in pd.read_csv('y_train_Final.csv', names=['class']).values.tolist()])\n",
        "X_test = pd.read_csv('X_test_Final.csv').values\n",
        "y_test = np.array([0 if el[0] == -1 else el[0] for el in pd.read_csv('y_test_Final.csv', names=['class']).values.tolist()])"
      ]
    },
    {
      "cell_type": "code",
      "execution_count": 117,
      "id": "XBp4eKY8qnHQ",
      "metadata": {
        "id": "XBp4eKY8qnHQ"
      },
      "outputs": [
        {
          "name": "stdout",
          "output_type": "stream",
          "text": [
            "Net_4_layer(\n",
            "  (fc1): Linear(in_features=20, out_features=64, bias=True)\n",
            "  (fc2): Linear(in_features=64, out_features=64, bias=True)\n",
            "  (fc3): Linear(in_features=64, out_features=64, bias=True)\n",
            "  (fc4): Linear(in_features=64, out_features=64, bias=True)\n",
            "  (fc5): Linear(in_features=64, out_features=64, bias=True)\n",
            "  (fc6): Linear(in_features=64, out_features=2, bias=True)\n",
            ")\n"
          ]
        }
      ],
      "source": [
        "#Архитектура нейронной сети\n",
        "class Net_4_layer(nn.Module):\n",
        "    def __init__(self):\n",
        "        super().__init__()  #вх. #вых.\n",
        "        self.fc1 = nn.Linear(20, 64)\n",
        "        self.fc2 = nn.Linear(64, 64)\n",
        "        self.fc3 = nn.Linear(64, 64)\n",
        "        self.fc4 = nn.Linear(64, 64)\n",
        "        self.fc5 = nn.Linear(64, 64)\n",
        "        self.fc6 = nn.Linear(64, 2)\n",
        "\n",
        "    def forward(self, x):\n",
        "        x = F.relu(self.fc1(x))\n",
        "        x = F.relu(self.fc2(x))\n",
        "        x = F.relu(self.fc3(x))\n",
        "        x = F.relu(self.fc4(x))\n",
        "        x = F.relu(self.fc5(x))\n",
        "        x = self.fc6(x)\n",
        "        return F.log_softmax(x, dim=1)\n",
        "\n",
        "net_4_layer = Net_4_layer().to(device)\n",
        "print(net_4_layer)"
      ]
    },
    {
      "cell_type": "code",
      "execution_count": 118,
      "id": "w_YxNt0kqnHR",
      "metadata": {
        "id": "w_YxNt0kqnHR"
      },
      "outputs": [],
      "source": [
        "#Задаем оптимизатор и функцию потерь\n",
        "\n",
        "\n",
        "optimizer_4_layer = optim.SGD(net_4_layer.parameters(), lr=0.001) # регулирует изменяемые параметры нашей модели, а именно веса, чтобы они постепенно, с течением времени, приходили в соответствие нашим данным\n",
        "# lr - скорость обучения определяет величину изменений, которую оптимайзер может внести за один раз\n",
        "# Каждый полный проход по данным называется эпохой (epoch)"
      ]
    },
    {
      "cell_type": "code",
      "execution_count": 119,
      "id": "gcHFBKpsqnHS",
      "metadata": {
        "id": "gcHFBKpsqnHS"
      },
      "outputs": [],
      "source": [
        "#преобразование в тензоры\n",
        "inputs_train = torch.tensor(X_train).to(device)\n",
        "targets_train = torch.tensor(y_train).int().to(device)\n",
        "\n",
        "inputs_test = torch.tensor(X_test).to(device)\n",
        "targets_test = torch.tensor(y_test).int().to(device)\n",
        "\n",
        "train = data_utils.TensorDataset(inputs_train, targets_train)\n",
        "test = data_utils.TensorDataset(inputs_test, targets_test)\n",
        "\n",
        "trainset = torch.utils.data.DataLoader(train, shuffle=True)\n",
        "testset = torch.utils.data.DataLoader(test, shuffle=False)"
      ]
    },
    {
      "cell_type": "code",
      "execution_count": 120,
      "id": "tqipxTYSqnHS",
      "metadata": {
        "id": "tqipxTYSqnHS"
      },
      "outputs": [
        {
          "name": "stdout",
          "output_type": "stream",
          "text": [
            "tensor(0.7659, grad_fn=<NllLossBackward0>)\n",
            "tensor(0.7133, grad_fn=<NllLossBackward0>)\n",
            "tensor(0.7921, grad_fn=<NllLossBackward0>)\n",
            "tensor(1.0575, grad_fn=<NllLossBackward0>)\n",
            "tensor(0.8213, grad_fn=<NllLossBackward0>)\n",
            "tensor(0.8907, grad_fn=<NllLossBackward0>)\n",
            "tensor(0.4383, grad_fn=<NllLossBackward0>)\n",
            "tensor(0.2820, grad_fn=<NllLossBackward0>)\n",
            "tensor(0.4624, grad_fn=<NllLossBackward0>)\n",
            "tensor(0.3422, grad_fn=<NllLossBackward0>)\n",
            "tensor(0.7170, grad_fn=<NllLossBackward0>)\n",
            "tensor(1.0356, grad_fn=<NllLossBackward0>)\n",
            "tensor(0.6866, grad_fn=<NllLossBackward0>)\n",
            "tensor(0.7796, grad_fn=<NllLossBackward0>)\n",
            "tensor(0.7881, grad_fn=<NllLossBackward0>)\n"
          ]
        }
      ],
      "source": [
        "for epoch in range(15): # 15 полных прохода по нашим данным\n",
        "    for data in trainset:  # `data` это батч наших данных\n",
        "        X, y = data  # X это батч свойств, y это батч целевых переменных.\n",
        "        net_4_layer.zero_grad()  # устанавливаем значение градиента в 0 перед вычислением функции потерь. Вам следует делать это на каждом шаге.\n",
        "        output = net_4_layer(X.float())  # передаем батч\n",
        "        #loss = F.nll_loss(output, y.long())  # вычисляем функцию потерь\n",
        "        loss = F.cross_entropy(output, y.long())\n",
        "        loss.backward()  # передаем это значение назад по сети\n",
        "        optimizer_4_layer.step()  # пытаемся оптимизировать значение весов исходя из потерь и градиента\n",
        "    print(loss)  # выводим на экран значение функции потерь. Мы надеемся, что оно убывает!"
      ]
    },
    {
      "cell_type": "code",
      "execution_count": 121,
      "id": "CJVzDAvAqnHT",
      "metadata": {
        "id": "CJVzDAvAqnHT"
      },
      "outputs": [],
      "source": [
        "#Предсказание меток классов для примеров из тестового множества\n",
        "ams = []\n",
        "with torch.no_grad():\n",
        "    for data in testset:\n",
        "        X, y = data\n",
        "        output = net_4_layer(X.float())\n",
        "        for idx, i in enumerate(output):\n",
        "            ams.append(torch.argmax(i).item())"
      ]
    },
    {
      "cell_type": "code",
      "execution_count": 122,
      "id": "czi0cSOgqnHU",
      "metadata": {
        "id": "czi0cSOgqnHU"
      },
      "outputs": [
        {
          "name": "stdout",
          "output_type": "stream",
          "text": [
            "torch.Size([1, 2])\n",
            "50\n",
            "              precision    recall  f1-score   support\n",
            "\n",
            "    negative       0.70      0.70      0.70        23\n",
            "    positive       0.74      0.74      0.74        27\n",
            "\n",
            "    accuracy                           0.72        50\n",
            "   macro avg       0.72      0.72      0.72        50\n",
            "weighted avg       0.72      0.72      0.72        50\n",
            "\n"
          ]
        }
      ],
      "source": [
        "#Оценка качества классификации\n",
        "print(output.size())\n",
        "print(len(ams))\n",
        "\n",
        "target_names = ['negative', 'positive']\n",
        "print(classification_report(y_test, ams, target_names=target_names))\n",
        "# print(f'f1 = {f1_score(y_test, ams, average='weighted', labels = [0, 1])}')"
      ]
    },
    {
      "cell_type": "markdown",
      "id": "U-bNSz2Jqp6O",
      "metadata": {
        "id": "U-bNSz2Jqp6O"
      },
      "source": [
        "## Сеть c 4 скрытыми слоями, одинаковые слои, lr=0.0001"
      ]
    },
    {
      "cell_type": "code",
      "execution_count": 123,
      "id": "-XVeGEo5qp6P",
      "metadata": {
        "id": "-XVeGEo5qp6P"
      },
      "outputs": [],
      "source": [
        "X_train = pd.read_csv('X_train_Final.csv').values\n",
        "y_train = np.array([0 if el[0] == -1 else el[0] for el in pd.read_csv('y_train_Final.csv', names=['class']).values.tolist()])\n",
        "X_test = pd.read_csv('X_test_Final.csv').values\n",
        "y_test = np.array([0 if el[0] == -1 else el[0] for el in pd.read_csv('y_test_Final.csv', names=['class']).values.tolist()])"
      ]
    },
    {
      "cell_type": "code",
      "execution_count": 124,
      "id": "Ptlx_-Huqp6Q",
      "metadata": {
        "id": "Ptlx_-Huqp6Q"
      },
      "outputs": [
        {
          "name": "stdout",
          "output_type": "stream",
          "text": [
            "Net_4_layer(\n",
            "  (fc1): Linear(in_features=20, out_features=64, bias=True)\n",
            "  (fc2): Linear(in_features=64, out_features=64, bias=True)\n",
            "  (fc3): Linear(in_features=64, out_features=64, bias=True)\n",
            "  (fc4): Linear(in_features=64, out_features=64, bias=True)\n",
            "  (fc5): Linear(in_features=64, out_features=64, bias=True)\n",
            "  (fc6): Linear(in_features=64, out_features=2, bias=True)\n",
            ")\n"
          ]
        }
      ],
      "source": [
        "#Архитектура нейронной сети\n",
        "class Net_4_layer(nn.Module):\n",
        "    def __init__(self):\n",
        "        super().__init__()  #вх. #вых.\n",
        "        self.fc1 = nn.Linear(20, 64)\n",
        "        self.fc2 = nn.Linear(64, 64)\n",
        "        self.fc3 = nn.Linear(64, 64)\n",
        "        self.fc4 = nn.Linear(64, 64)\n",
        "        self.fc5 = nn.Linear(64, 64)\n",
        "        self.fc6 = nn.Linear(64, 2)\n",
        "\n",
        "    def forward(self, x):\n",
        "        x = F.relu(self.fc1(x))\n",
        "        x = F.relu(self.fc2(x))\n",
        "        x = F.relu(self.fc3(x))\n",
        "        x = F.relu(self.fc4(x))\n",
        "        x = F.relu(self.fc5(x))\n",
        "        x = self.fc6(x)\n",
        "        return F.log_softmax(x, dim=1)\n",
        "\n",
        "net_4_layer = Net_4_layer().to(device)\n",
        "print(net_4_layer)"
      ]
    },
    {
      "cell_type": "code",
      "execution_count": 125,
      "id": "VBSU4Zasqp6R",
      "metadata": {
        "id": "VBSU4Zasqp6R"
      },
      "outputs": [],
      "source": [
        "#Задаем оптимизатор и функцию потерь\n",
        "\n",
        "\n",
        "optimizer_4_layer = optim.SGD(net_4_layer.parameters(), lr=0.0001) # регулирует изменяемые параметры нашей модели, а именно веса, чтобы они постепенно, с течением времени, приходили в соответствие нашим данным\n",
        "# lr - скорость обучения определяет величину изменений, которую оптимайзер может внести за один раз\n",
        "# Каждый полный проход по данным называется эпохой (epoch)"
      ]
    },
    {
      "cell_type": "code",
      "execution_count": 126,
      "id": "aHsrHYy5qp6R",
      "metadata": {
        "id": "aHsrHYy5qp6R"
      },
      "outputs": [],
      "source": [
        "#преобразование в тензоры\n",
        "inputs_train = torch.tensor(X_train).to(device)\n",
        "targets_train = torch.tensor(y_train).int().to(device)\n",
        "\n",
        "inputs_test = torch.tensor(X_test).to(device)\n",
        "targets_test = torch.tensor(y_test).int().to(device)\n",
        "\n",
        "train = data_utils.TensorDataset(inputs_train, targets_train)\n",
        "test = data_utils.TensorDataset(inputs_test, targets_test)\n",
        "\n",
        "trainset = torch.utils.data.DataLoader(train, shuffle=True)\n",
        "testset = torch.utils.data.DataLoader(test, shuffle=False)"
      ]
    },
    {
      "cell_type": "code",
      "execution_count": 127,
      "id": "ZBcsF0exqp6S",
      "metadata": {
        "id": "ZBcsF0exqp6S"
      },
      "outputs": [
        {
          "name": "stdout",
          "output_type": "stream",
          "text": [
            "tensor(0.6536, grad_fn=<NllLossBackward0>)\n",
            "tensor(0.6315, grad_fn=<NllLossBackward0>)\n",
            "tensor(0.7525, grad_fn=<NllLossBackward0>)\n",
            "tensor(0.7601, grad_fn=<NllLossBackward0>)\n",
            "tensor(0.6236, grad_fn=<NllLossBackward0>)\n",
            "tensor(0.7513, grad_fn=<NllLossBackward0>)\n",
            "tensor(0.6228, grad_fn=<NllLossBackward0>)\n",
            "tensor(0.6138, grad_fn=<NllLossBackward0>)\n",
            "tensor(0.6183, grad_fn=<NllLossBackward0>)\n",
            "tensor(0.6201, grad_fn=<NllLossBackward0>)\n",
            "tensor(0.6105, grad_fn=<NllLossBackward0>)\n",
            "tensor(0.7666, grad_fn=<NllLossBackward0>)\n",
            "tensor(0.5725, grad_fn=<NllLossBackward0>)\n",
            "tensor(0.6720, grad_fn=<NllLossBackward0>)\n",
            "tensor(0.7246, grad_fn=<NllLossBackward0>)\n"
          ]
        }
      ],
      "source": [
        "for epoch in range(15): # 15 полных прохода по нашим данным\n",
        "    for data in trainset:  # `data` это батч наших данных\n",
        "        X, y = data  # X это батч свойств, y это батч целевых переменных.\n",
        "        net_4_layer.zero_grad()  # устанавливаем значение градиента в 0 перед вычислением функции потерь. Вам следует делать это на каждом шаге.\n",
        "        output = net_4_layer(X.float())  # передаем батч\n",
        "        #loss = F.nll_loss(output, y.long())  # вычисляем функцию потерь\n",
        "        loss = F.cross_entropy(output, y.long())\n",
        "        loss.backward()  # передаем это значение назад по сети\n",
        "        optimizer_4_layer.step()  # пытаемся оптимизировать значение весов исходя из потерь и градиента\n",
        "    print(loss)  # выводим на экран значение функции потерь. Мы надеемся, что оно убывает!"
      ]
    },
    {
      "cell_type": "code",
      "execution_count": 128,
      "id": "1Zy5HWK7qp6T",
      "metadata": {
        "id": "1Zy5HWK7qp6T"
      },
      "outputs": [],
      "source": [
        "#Предсказание меток классов для примеров из тестового множества\n",
        "ams = []\n",
        "with torch.no_grad():\n",
        "    for data in testset:\n",
        "        X, y = data\n",
        "        output = net_4_layer(X.float())\n",
        "        for idx, i in enumerate(output):\n",
        "            ams.append(torch.argmax(i).item())"
      ]
    },
    {
      "cell_type": "code",
      "execution_count": 129,
      "id": "5kVp5aRdqp6T",
      "metadata": {
        "id": "5kVp5aRdqp6T"
      },
      "outputs": [
        {
          "name": "stdout",
          "output_type": "stream",
          "text": [
            "torch.Size([1, 2])\n",
            "50\n",
            "              precision    recall  f1-score   support\n",
            "\n",
            "    negative       0.82      0.39      0.53        23\n",
            "    positive       0.64      0.93      0.76        27\n",
            "\n",
            "    accuracy                           0.68        50\n",
            "   macro avg       0.73      0.66      0.64        50\n",
            "weighted avg       0.72      0.68      0.65        50\n",
            "\n"
          ]
        }
      ],
      "source": [
        "#Оценка качества классификации\n",
        "print(output.size())\n",
        "print(len(ams))\n",
        "\n",
        "target_names = ['negative', 'positive']\n",
        "print(classification_report(y_test, ams, target_names=target_names))\n",
        "# print(f'f1 = {f1_score(y_test, ams, average='weighted', labels = [0, 1])}')"
      ]
    },
    {
      "cell_type": "markdown",
      "id": "VZ9ToBasS-ez",
      "metadata": {
        "id": "VZ9ToBasS-ez"
      },
      "source": [
        "# Сводная таблица"
      ]
    },
    {
      "attachments": {},
      "cell_type": "markdown",
      "id": "hTiioGf2TCPM",
      "metadata": {
        "id": "hTiioGf2TCPM"
      },
      "source": [
        "| Количество скрытых слоев | Количество нейронов | Скорость обучения | weighted F1-score |\n",
        "| ---: | ---: | ---: | ---: | \n",
        "| 2 | 16-8 | 0.01 | 0.727 |\n",
        "| 2 | 16-8 | 0.001 | 0.718 |\n",
        "| 2 | 16-8 | 0.0001 | 0.742 |\n",
        "| 2 | 16-16 | 0.01 | 0.799 |\n",
        "| 2 | 16-16 | 0.001 | 0.769 |\n",
        "| 2 | 16-16 | 0.0001 | 0.771 |\n",
        "| 3 | 32-16-8 | 0.01 | 0.705 |\n",
        "| 3 | 32-16-8 | 0.001 | 0.766 |\n",
        "| 3 | 32-16-8 | 0.0001 | 0. |\n",
        "| 3 | 32-32-32 | 0.01 | 0. |\n",
        "| 3 | 32-32-32 | 0.001 | 0. |\n",
        "| 3 | 32-32-32 | 0.0001 | 0. |\n",
        "| 4 | 32-2 | 0.01 | 0. |\n",
        "| 4 | 32-2 | 0.001 | 0. |\n",
        "| 4 | 32-2 | 0.0001 | 0. |\n",
        "| 4 | 32-2 | 0.01 | 0. |\n",
        "| 4 | 32-2 | 0.001 | 0. |\n",
        "| 4 | 32-2 | 0.0001 | 0. |"
      ]
    }
  ],
  "metadata": {
    "accelerator": "GPU",
    "colab": {
      "provenance": []
    },
    "gpuClass": "standard",
    "kernelspec": {
      "display_name": "Python 3 (ipykernel)",
      "language": "python",
      "name": "python3"
    },
    "language_info": {
      "codemirror_mode": {
        "name": "ipython",
        "version": 3
      },
      "file_extension": ".py",
      "mimetype": "text/x-python",
      "name": "python",
      "nbconvert_exporter": "python",
      "pygments_lexer": "ipython3",
      "version": "3.10.9"
    },
    "vscode": {
      "interpreter": {
        "hash": "e7370f93d1d0cde622a1f8e1c04877d8463912d04d973331ad4851f04de6915a"
      }
    }
  },
  "nbformat": 4,
  "nbformat_minor": 5
}
